{
  "nbformat": 4,
  "nbformat_minor": 0,
  "metadata": {
    "colab": {
      "provenance": [],
      "authorship_tag": "ABX9TyNt0VHGREWJ2poM2AVyT4JB",
      "include_colab_link": true
    },
    "kernelspec": {
      "name": "python3",
      "display_name": "Python 3"
    },
    "language_info": {
      "name": "python"
    }
  },
  "cells": [
    {
      "cell_type": "markdown",
      "metadata": {
        "id": "view-in-github",
        "colab_type": "text"
      },
      "source": [
        "<a href=\"https://colab.research.google.com/github/vanezp01/datalabs/blob/main/Weather_Forecasting.ipynb\" target=\"_parent\"><img src=\"https://colab.research.google.com/assets/colab-badge.svg\" alt=\"Open In Colab\"/></a>"
      ]
    },
    {
      "cell_type": "code",
      "execution_count": 1,
      "metadata": {
        "id": "0IyFXfEgN3qA"
      },
      "outputs": [],
      "source": [
        "import requests\n",
        "from geopy.geocoders import Nominatim"
      ]
    },
    {
      "cell_type": "code",
      "source": [
        "# Get latitude and longitude of city and state\n",
        "def get_lat_long(city, state):\n",
        "    geolocator = Nominatim(user_agent=\"WeatherForecastApp\")\n",
        "    try:\n",
        "        location = geolocator.geocode(f\"{city}, {state}\")\n",
        "        if location:\n",
        "            return location.latitude, location.longitude\n",
        "        else:\n",
        "            print(f\"Location not found for {city}, {state}. Please check city and state names.\")\n",
        "            return None, None\n",
        "    except Exception as e:\n",
        "        print(f\"Error during geocoding: {e}\")\n",
        "        return None, None"
      ],
      "metadata": {
        "id": "3CPDaF9XOEj4"
      },
      "execution_count": 2,
      "outputs": []
    },
    {
      "cell_type": "code",
      "source": [
        "# Fetch weather data from Meteo API\n",
        "def get_weather(latitude, longitude):\n",
        "    # Define API endpoint with parameters for current weather in Fahrenheit\n",
        "    url = (f\"https://api.open-meteo.com/v1/forecast?latitude={latitude}&longitude={longitude}&current=temperature_2m,wind_speed_10m,weathercode&temperature_unit=fahrenheit\")\n",
        "\n",
        "    try:\n",
        "        # Send GET request to the API\n",
        "        response = requests.get(url)\n",
        "        # Check if request was successful\n",
        "        if response.status_code == 200:\n",
        "            data = response.json()\n",
        "            return data.get('current', None)\n",
        "        else:\n",
        "            print(f\"Error fetching weather data: HTTP {response.status_code}\")\n",
        "            return None\n",
        "    except requests.RequestException as e:\n",
        "        print(f\"Error fetching weather data: {e}\")\n",
        "        return None\n",
        ""
      ],
      "metadata": {
        "id": "JnZFimpJOTDM"
      },
      "execution_count": 3,
      "outputs": []
    },
    {
      "cell_type": "code",
      "source": [
        "# Prompt user for input and validate\n",
        "def get_user_input():\n",
        "    city = input(\"Enter city name: \").strip()\n",
        "    state = input(\"Enter state name (e.g., NY for New York): \").strip()\n",
        "    if not city or not state:\n",
        "        print(\"City and state cannot be empty.\")\n",
        "        return None, None\n",
        "    return city, state\n",
        "\n",
        "# Main program\n",
        "def main():\n",
        "    # Get user input\n",
        "    city, state = get_user_input()\n",
        "    if city is None or state is None:\n",
        "        return\n",
        "\n",
        "    # Get latitude and longitude\n",
        "    latitude, longitude = get_lat_long(city, state)\n",
        "    if latitude is None or longitude is None:\n",
        "        return"
      ],
      "metadata": {
        "id": "blrWwVgVOX9N"
      },
      "execution_count": 4,
      "outputs": []
    },
    {
      "cell_type": "code",
      "source": [
        "# Main program\n",
        "def main():\n",
        "    # Get user input\n",
        "    city, state = get_user_input()\n",
        "    if city is None or state is None:\n",
        "        return\n",
        "\n",
        "    # Get latitude and longitude\n",
        "    latitude, longitude = get_lat_long(city, state)\n",
        "    if latitude is None or longitude is None:\n",
        "        return\n",
        "\n",
        "    # Fetch weather data\n",
        "    weather = get_weather(latitude, longitude)\n",
        "    if weather:\n",
        "        print(f\"\\nCurrent Weather for {city}, {state}:\")\n",
        "        print(f\"Temperature: {weather['temperature_2m']} °F\")\n",
        "        print(f\"Wind Speed: {weather['wind_speed_10m']} mph\")\n",
        "        print(f\"Weather Code: {weather['weathercode']} (See OpenMeteo docs for details)\")\n",
        "    else:\n",
        "        print(\"Could not retrieve weather data.\")\n",
        "\n",
        "if __name__ == \"__main__\":\n",
        "    main()"
      ],
      "metadata": {
        "colab": {
          "base_uri": "https://localhost:8080/"
        },
        "id": "3GkOS43tOhlj",
        "outputId": "3a189f56-4b56-49c1-f354-ed7e9fe73e68"
      },
      "execution_count": 5,
      "outputs": [
        {
          "output_type": "stream",
          "name": "stdout",
          "text": [
            "Enter city name: Los Angeles\n",
            "Enter state name (e.g., NY for New York): CA\n",
            "\n",
            "Current Weather for Los Angeles, CA:\n",
            "Temperature: 57.3 °F\n",
            "Wind Speed: 1.8 mph\n",
            "Weather Code: 1 (See Open-Meteo docs for details)\n"
          ]
        }
      ]
    }
  ]
}
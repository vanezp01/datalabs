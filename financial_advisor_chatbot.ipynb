{
  "nbformat": 4,
  "nbformat_minor": 0,
  "metadata": {
    "colab": {
      "provenance": [],
      "authorship_tag": "ABX9TyP90k299pmkdsFjyZ/bP6eX",
      "include_colab_link": true
    },
    "kernelspec": {
      "name": "python3",
      "display_name": "Python 3"
    },
    "language_info": {
      "name": "python"
    }
  },
  "cells": [
    {
      "cell_type": "markdown",
      "metadata": {
        "id": "view-in-github",
        "colab_type": "text"
      },
      "source": [
        "<a href=\"https://colab.research.google.com/github/vanezp01/datalabs/blob/main/financial_advisor_chatbot.ipynb\" target=\"_parent\"><img src=\"https://colab.research.google.com/assets/colab-badge.svg\" alt=\"Open In Colab\"/></a>"
      ]
    },
    {
      "cell_type": "code",
      "execution_count": null,
      "metadata": {
        "id": "yl9g-soE_AtQ"
      },
      "outputs": [],
      "source": [
        "# Import Modules\n",
        "import nltk\n",
        "from nltk.chat.util import Chat, reflections"
      ]
    },
    {
      "cell_type": "code",
      "source": [
        "# Define the pairs of patterns and responses\n",
        "pairs = [\n",
        "    [\n",
        "        r\"my name is (.*)\",\n",
        "        [\"Hello %1, How are you today ?\",]\n",
        "    ],\n",
        "    [\n",
        "        r\"hi|hey|hello\",\n",
        "        [\"Hello\", \"Hey there\",]\n",
        "    ],\n",
        "    [\n",
        "        r\"(.*)stock market(.*)\",\n",
        "        [\"The stock market is a network of exchanges where investors can buy and sell shares of publicly traded companies\",]\n",
        "    ],\n",
        "    [\n",
        "        r\"(.*)save money(.*)\",\n",
        "        [\"Track your spending and allocate a portion of your income to savings after covering essential needs\",]\n",
        "\n",
        "    ],\n",
        "    [\n",
        "        r\"(.*)retirement plan(.*)\",\n",
        "        [\"Retirement planning involves determining your goals and creating a stategy to achieve them\",]\n",
        "    ],\n",
        "    [\n",
        "        r\"(.*)credit cards(.*)\",\n",
        "        [\"Your credit score reflects your credit worthiness. To improve it, pay your bills on time and keep your credit card balances low\",]\n",
        "    ],\n",
        "    [\n",
        "        r\"quit\",\n",
        "        [\"Bye for now. See you soon :) \",\"It was nice talking to you. See you soon :)\"]\n",
        "    ],\n",
        "]\n"
      ],
      "metadata": {
        "id": "J2bjxbnN_J9_"
      },
      "execution_count": null,
      "outputs": []
    },
    {
      "cell_type": "code",
      "source": [
        "#  Create the chatbot\n",
        "finance_chatbot = Chat(pairs, reflections)"
      ],
      "metadata": {
        "id": "HCNVzQMvF0c4"
      },
      "execution_count": null,
      "outputs": []
    },
    {
      "cell_type": "code",
      "source": [
        "# Start the conversation\n",
        "print(\"Hi, I'm a finance chatbot. How can I help you today?\")\n",
        "finance_chatbot.converse()"
      ],
      "metadata": {
        "id": "5JkwHcVJGsdP"
      },
      "execution_count": null,
      "outputs": []
    }
  ]
}
{
  "nbformat": 4,
  "nbformat_minor": 0,
  "metadata": {
    "colab": {
      "provenance": [],
      "authorship_tag": "ABX9TyMt5H735W5aokZ1+UBFBuev",
      "include_colab_link": true
    },
    "kernelspec": {
      "name": "python3",
      "display_name": "Python 3"
    },
    "language_info": {
      "name": "python"
    }
  },
  "cells": [
    {
      "cell_type": "markdown",
      "metadata": {
        "id": "view-in-github",
        "colab_type": "text"
      },
      "source": [
        "<a href=\"https://colab.research.google.com/github/vanezp01/datalabs/blob/main/Trading_buddy.ipynb\" target=\"_parent\"><img src=\"https://colab.research.google.com/assets/colab-badge.svg\" alt=\"Open In Colab\"/></a>"
      ]
    },
    {
      "cell_type": "code",
      "source": [
        "# import libraries\n",
        "import yfinance as yf\n",
        "import pandas as pd\n",
        "import numpy as np\n",
        "from ta.trend import MACD, SMAIndicator\n",
        "from ta.momentum import RSIIndicator\n",
        "import streamlit as st\n",
        "from datetime import datetime, timedelta\n",
        "import matplotlib.pyplot as plt"
      ],
      "metadata": {
        "id": "fTkaQ2XrTk_f"
      },
      "execution_count": 4,
      "outputs": []
    },
    {
      "cell_type": "code",
      "source": [
        "# Function to fetch data\n",
        "def fetch_data(ticker):\n",
        "    end_date = datetime.today()\n",
        "    start_date = end_date - timedelta(days=60)\n",
        "    data = yf.download(ticker, start=start_date, end=end_date)\n",
        "    return data"
      ],
      "metadata": {
        "id": "3_Ptp6WaTsxa"
      },
      "execution_count": 5,
      "outputs": []
    },
    {
      "cell_type": "code",
      "source": [
        "# Function to compute indicators\n",
        "def compute_indicators(data):\n",
        "    data['SMA_20'] = SMAIndicator(data['Close'], window=20).sma_indicator()\n",
        "    data['SMA_50'] = SMAIndicator(data['Close'], window=50).sma_indicator()\n",
        "    data['RSI'] = RSIIndicator(data['Close'], window=14).rsi()\n",
        "    macd = MACD(data['Close'])\n",
        "    data['MACD'] = macd.macd()\n",
        "    data['MACD_signal'] = macd.macd_signal()\n",
        "    return data"
      ],
      "metadata": {
        "id": "bT6PQbxHT1Cx"
      },
      "execution_count": 6,
      "outputs": []
    },
    {
      "cell_type": "code",
      "source": [
        "# Basic support/resistance estimation\n",
        "def support_resistance(data):\n",
        "    recent = data[-20:]\n",
        "    support = recent['Low'].min()\n",
        "    resistance = recent['High'].max()\n",
        "    return support, resistance"
      ],
      "metadata": {
        "id": "Df8AGGdfT67Z"
      },
      "execution_count": 7,
      "outputs": []
    },
    {
      "cell_type": "code",
      "source": [
        "# Predict next week's high/low (simple)\n",
        "def predict_week_range(data):\n",
        "    last_close = data['Close'].iloc[-1]\n",
        "    volatility = data['Close'].rolling(window=5).std().iloc[-1]\n",
        "    predicted_high = last_close + (volatility * 1.5)\n",
        "    predicted_low = last_close - (volatility * 1.5)\n",
        "    return round(predicted_low, 2), round(predicted_high, 2)"
      ],
      "metadata": {
        "id": "nO6jSmsvUAZ9"
      },
      "execution_count": 8,
      "outputs": []
    },
    {
      "cell_type": "code",
      "source": [
        "# Suggest trade levels\n",
        "def trade_levels(data, support, resistance):\n",
        "    entry = data['Close'].iloc[-1]\n",
        "    stop_loss = round(support * 0.98, 2)\n",
        "    take_profit = round(resistance * 0.98, 2)\n",
        "    return round(entry, 2), stop_loss, take_profit\n"
      ],
      "metadata": {
        "id": "_pCSNqNTUFLZ"
      },
      "execution_count": 9,
      "outputs": []
    },
    {
      "cell_type": "code",
      "source": [
        "# Main web app function\n",
        "def main():\n",
        "    st.title(\"AI Swing Trading Buddy\")\n",
        "    ticker = st.text_input(\"Enter stock or ETF ticker (e.g., AAPL, SPY):\", value=\"AAPL\")\n",
        "\n",
        "    if st.button(\"Analyze\"):\n",
        "        data = fetch_data(ticker)\n",
        "        if data.empty:\n",
        "            st.error(\"Failed to retrieve data. Check the ticker.\")\n",
        "            return\n",
        "\n",
        "        data = compute_indicators(data)\n",
        "        support, resistance = support_resistance(data)\n",
        "        predicted_low, predicted_high = predict_week_range(data)\n",
        "        entry, stop_loss, take_profit = trade_levels(data, support, resistance)\n",
        "\n",
        "        st.subheader(\"Summary Table\")\n",
        "        summary = pd.DataFrame({\n",
        "            'Indicator': ['20-day SMA', '50-day SMA', 'RSI', 'MACD', 'MACD Signal', 'Support', 'Resistance', 'Predicted Low', 'Predicted High', 'Entry', 'Stop Loss', 'Take Profit'],\n",
        "            'Value': [\n",
        "                round(data['SMA_20'].iloc[-1], 2),\n",
        "                round(data['SMA_50'].iloc[-1], 2),\n",
        "                round(data['RSI'].iloc[-1], 2),\n",
        "                round(data['MACD'].iloc[-1], 2),\n",
        "                round(data['MACD_signal'].iloc[-1], 2),\n",
        "                support,\n",
        "                resistance,\n",
        "                predicted_low,\n",
        "                predicted_high,\n",
        "                entry,\n",
        "                stop_loss,\n",
        "                take_profit\n",
        "            ]\n",
        "        })\n",
        "        st.dataframe(summary)\n",
        "\n",
        "        st.subheader(\"Price Chart with Moving Averages\")\n",
        "        fig, ax = plt.subplots(figsize=(10, 4))\n",
        "        ax.plot(data.index, data['Close'], label='Close')\n",
        "        ax.plot(data.index, data['SMA_20'], label='SMA 20')\n",
        "        ax.plot(data.index, data['SMA_50'], label='SMA 50')\n",
        "        ax.axhline(support, color='green', linestyle='--', label='Support')\n",
        "        ax.axhline(resistance, color='red', linestyle='--', label='Resistance')\n",
        "        ax.legend()\n",
        "        st.pyplot(fig)\n",
        "\n",
        "if __name__ == \"__main__\":\n",
        "    main()"
      ],
      "metadata": {
        "colab": {
          "base_uri": "https://localhost:8080/"
        },
        "id": "C8L65L3uUPK3",
        "outputId": "13ab403d-81ff-4d1f-8ebe-02b3b3d42378"
      },
      "execution_count": 10,
      "outputs": [
        {
          "output_type": "stream",
          "name": "stderr",
          "text": [
            "2025-05-31 07:50:08.855 WARNING streamlit.runtime.scriptrunner_utils.script_run_context: Thread 'MainThread': missing ScriptRunContext! This warning can be ignored when running in bare mode.\n",
            "2025-05-31 07:50:08.969 \n",
            "  \u001b[33m\u001b[1mWarning:\u001b[0m to view this Streamlit app on a browser, run it with the following\n",
            "  command:\n",
            "\n",
            "    streamlit run /usr/local/lib/python3.11/dist-packages/colab_kernel_launcher.py [ARGUMENTS]\n",
            "2025-05-31 07:50:08.970 Thread 'MainThread': missing ScriptRunContext! This warning can be ignored when running in bare mode.\n",
            "2025-05-31 07:50:08.971 Thread 'MainThread': missing ScriptRunContext! This warning can be ignored when running in bare mode.\n",
            "2025-05-31 07:50:08.973 Thread 'MainThread': missing ScriptRunContext! This warning can be ignored when running in bare mode.\n",
            "2025-05-31 07:50:08.974 Thread 'MainThread': missing ScriptRunContext! This warning can be ignored when running in bare mode.\n",
            "2025-05-31 07:50:08.976 Thread 'MainThread': missing ScriptRunContext! This warning can be ignored when running in bare mode.\n",
            "2025-05-31 07:50:08.977 Session state does not function when running a script without `streamlit run`\n",
            "2025-05-31 07:50:08.978 Thread 'MainThread': missing ScriptRunContext! This warning can be ignored when running in bare mode.\n",
            "2025-05-31 07:50:08.979 Thread 'MainThread': missing ScriptRunContext! This warning can be ignored when running in bare mode.\n",
            "2025-05-31 07:50:08.980 Thread 'MainThread': missing ScriptRunContext! This warning can be ignored when running in bare mode.\n",
            "2025-05-31 07:50:08.980 Thread 'MainThread': missing ScriptRunContext! This warning can be ignored when running in bare mode.\n",
            "2025-05-31 07:50:08.981 Thread 'MainThread': missing ScriptRunContext! This warning can be ignored when running in bare mode.\n",
            "2025-05-31 07:50:08.982 Thread 'MainThread': missing ScriptRunContext! This warning can be ignored when running in bare mode.\n",
            "2025-05-31 07:50:08.984 Thread 'MainThread': missing ScriptRunContext! This warning can be ignored when running in bare mode.\n"
          ]
        }
      ]
    }
  ]
}
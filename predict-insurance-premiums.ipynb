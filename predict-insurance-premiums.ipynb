{
 "cells": [
  {
   "cell_type": "markdown",
   "id": "6f3355d4",
   "metadata": {
    "papermill": {
     "duration": 0.003951,
     "end_time": "2024-12-02T08:36:02.118727",
     "exception": false,
     "start_time": "2024-12-02T08:36:02.114776",
     "status": "completed"
    },
    "tags": []
   },
   "source": [
    "# Import Libraries and data"
   ]
  },
  {
   "cell_type": "code",
   "execution_count": 1,
   "id": "b8bfb1d4",
   "metadata": {
    "execution": {
     "iopub.execute_input": "2024-12-02T08:36:02.129370Z",
     "iopub.status.busy": "2024-12-02T08:36:02.127346Z",
     "iopub.status.idle": "2024-12-02T08:36:05.731679Z",
     "shell.execute_reply": "2024-12-02T08:36:05.729815Z"
    },
    "papermill": {
     "duration": 3.612133,
     "end_time": "2024-12-02T08:36:05.734308",
     "exception": false,
     "start_time": "2024-12-02T08:36:02.122175",
     "status": "completed"
    },
    "tags": []
   },
   "outputs": [],
   "source": [
    "# Load libraries\n",
    "suppressPackageStartupMessages({\n",
    "\n",
    "library(tidyverse)\n",
    "library(dplyr)\n",
    "library(janitor)\n",
    "library(caret)\n",
    "library(lubridate)\n",
    "#library(randomForest)\n",
    "library(lightgbm)\n",
    "    \n",
    "})"
   ]
  },
  {
   "cell_type": "code",
   "execution_count": 2,
   "id": "9cdf34f1",
   "metadata": {
    "execution": {
     "iopub.execute_input": "2024-12-02T08:36:05.773434Z",
     "iopub.status.busy": "2024-12-02T08:36:05.743592Z",
     "iopub.status.idle": "2024-12-02T08:36:35.228718Z",
     "shell.execute_reply": "2024-12-02T08:36:35.226758Z"
    },
    "papermill": {
     "duration": 29.495163,
     "end_time": "2024-12-02T08:36:35.233371",
     "exception": false,
     "start_time": "2024-12-02T08:36:05.738208",
     "status": "completed"
    },
    "tags": []
   },
   "outputs": [],
   "source": [
    "# Import data \n",
    "train_df <- read.csv(\"/kaggle/input/playground-series-s4e12/train.csv\")\n",
    "test_df <- read.csv(\"/kaggle/input/playground-series-s4e12/test.csv\")"
   ]
  },
  {
   "cell_type": "markdown",
   "id": "923ec921",
   "metadata": {
    "papermill": {
     "duration": 0.003825,
     "end_time": "2024-12-02T08:36:35.242254",
     "exception": false,
     "start_time": "2024-12-02T08:36:35.238429",
     "status": "completed"
    },
    "tags": []
   },
   "source": [
    "# Data Exploration and Preprocessing"
   ]
  },
  {
   "cell_type": "code",
   "execution_count": 3,
   "id": "8addb606",
   "metadata": {
    "execution": {
     "iopub.execute_input": "2024-12-02T08:36:35.253010Z",
     "iopub.status.busy": "2024-12-02T08:36:35.251444Z",
     "iopub.status.idle": "2024-12-02T08:36:36.461959Z",
     "shell.execute_reply": "2024-12-02T08:36:36.459686Z"
    },
    "papermill": {
     "duration": 1.21905,
     "end_time": "2024-12-02T08:36:36.464826",
     "exception": false,
     "start_time": "2024-12-02T08:36:35.245776",
     "status": "completed"
    },
    "tags": []
   },
   "outputs": [
    {
     "data": {
      "text/plain": [
       "       id               Age           Gender          Annual.Income   \n",
       " Min.   :      0   Min.   :18.00   Length:1200000     Min.   :     1  \n",
       " 1st Qu.: 300000   1st Qu.:30.00   Class :character   1st Qu.:  8001  \n",
       " Median : 600000   Median :41.00   Mode  :character   Median : 23911  \n",
       " Mean   : 600000   Mean   :41.15                      Mean   : 32745  \n",
       " 3rd Qu.: 899999   3rd Qu.:53.00                      3rd Qu.: 44634  \n",
       " Max.   :1199999   Max.   :64.00                      Max.   :149997  \n",
       "                   NA's   :18705                      NA's   :44949   \n",
       " Marital.Status     Number.of.Dependents Education.Level     Occupation       \n",
       " Length:1200000     Min.   :0.00         Length:1200000     Length:1200000    \n",
       " Class :character   1st Qu.:1.00         Class :character   Class :character  \n",
       " Mode  :character   Median :2.00         Mode  :character   Mode  :character  \n",
       "                    Mean   :2.01                                              \n",
       "                    3rd Qu.:3.00                                              \n",
       "                    Max.   :4.00                                              \n",
       "                    NA's   :109672                                            \n",
       "  Health.Score     Location         Policy.Type        Previous.Claims \n",
       " Min.   : 2.01   Length:1200000     Length:1200000     Min.   :0       \n",
       " 1st Qu.:15.92   Class :character   Class :character   1st Qu.:0       \n",
       " Median :24.58   Mode  :character   Mode  :character   Median :1       \n",
       " Mean   :25.61                                         Mean   :1       \n",
       " 3rd Qu.:34.53                                         3rd Qu.:2       \n",
       " Max.   :58.98                                         Max.   :9       \n",
       " NA's   :74076                                         NA's   :364029  \n",
       "  Vehicle.Age     Credit.Score    Insurance.Duration Policy.Start.Date \n",
       " Min.   : 0.00   Min.   :300.0    Min.   :1.000      Length:1200000    \n",
       " 1st Qu.: 5.00   1st Qu.:468.0    1st Qu.:3.000      Class :character  \n",
       " Median :10.00   Median :595.0    Median :5.000      Mode  :character  \n",
       " Mean   : 9.57   Mean   :592.9    Mean   :5.018                        \n",
       " 3rd Qu.:15.00   3rd Qu.:721.0    3rd Qu.:7.000                        \n",
       " Max.   :19.00   Max.   :849.0    Max.   :9.000                        \n",
       " NA's   :6       NA's   :137882   NA's   :1                            \n",
       " Customer.Feedback  Smoking.Status     Exercise.Frequency Property.Type     \n",
       " Length:1200000     Length:1200000     Length:1200000     Length:1200000    \n",
       " Class :character   Class :character   Class :character   Class :character  \n",
       " Mode  :character   Mode  :character   Mode  :character   Mode  :character  \n",
       "                                                                            \n",
       "                                                                            \n",
       "                                                                            \n",
       "                                                                            \n",
       " Premium.Amount\n",
       " Min.   :  20  \n",
       " 1st Qu.: 514  \n",
       " Median : 872  \n",
       " Mean   :1103  \n",
       " 3rd Qu.:1509  \n",
       " Max.   :4999  \n",
       "               "
      ]
     },
     "metadata": {},
     "output_type": "display_data"
    }
   ],
   "source": [
    "summary(train_df)"
   ]
  },
  {
   "cell_type": "code",
   "execution_count": 4,
   "id": "fe4d3512",
   "metadata": {
    "execution": {
     "iopub.execute_input": "2024-12-02T08:36:36.475402Z",
     "iopub.status.busy": "2024-12-02T08:36:36.473859Z",
     "iopub.status.idle": "2024-12-02T08:36:36.576566Z",
     "shell.execute_reply": "2024-12-02T08:36:36.574753Z"
    },
    "papermill": {
     "duration": 0.111488,
     "end_time": "2024-12-02T08:36:36.579913",
     "exception": false,
     "start_time": "2024-12-02T08:36:36.468425",
     "status": "completed"
    },
    "tags": []
   },
   "outputs": [],
   "source": [
    "# Converts names to snake_case\n",
    "train_df <- clean_names(train_df)  "
   ]
  },
  {
   "cell_type": "code",
   "execution_count": 5,
   "id": "375128c3",
   "metadata": {
    "execution": {
     "iopub.execute_input": "2024-12-02T08:36:36.591208Z",
     "iopub.status.busy": "2024-12-02T08:36:36.589693Z",
     "iopub.status.idle": "2024-12-02T08:36:36.863494Z",
     "shell.execute_reply": "2024-12-02T08:36:36.861193Z"
    },
    "papermill": {
     "duration": 0.282937,
     "end_time": "2024-12-02T08:36:36.866522",
     "exception": false,
     "start_time": "2024-12-02T08:36:36.583585",
     "status": "completed"
    },
    "tags": []
   },
   "outputs": [
    {
     "data": {
      "text/html": [
       "<table class=\"dataframe\">\n",
       "<caption>A data.frame: 6 × 21</caption>\n",
       "<thead>\n",
       "\t<tr><th></th><th scope=col>id</th><th scope=col>age</th><th scope=col>gender</th><th scope=col>annual_income</th><th scope=col>marital_status</th><th scope=col>number_of_dependents</th><th scope=col>education_level</th><th scope=col>occupation</th><th scope=col>health_score</th><th scope=col>location</th><th scope=col>⋯</th><th scope=col>previous_claims</th><th scope=col>vehicle_age</th><th scope=col>credit_score</th><th scope=col>insurance_duration</th><th scope=col>policy_start_date</th><th scope=col>customer_feedback</th><th scope=col>smoking_status</th><th scope=col>exercise_frequency</th><th scope=col>property_type</th><th scope=col>premium_amount</th></tr>\n",
       "\t<tr><th></th><th scope=col>&lt;int&gt;</th><th scope=col>&lt;dbl&gt;</th><th scope=col>&lt;chr&gt;</th><th scope=col>&lt;dbl&gt;</th><th scope=col>&lt;chr&gt;</th><th scope=col>&lt;dbl&gt;</th><th scope=col>&lt;chr&gt;</th><th scope=col>&lt;chr&gt;</th><th scope=col>&lt;dbl&gt;</th><th scope=col>&lt;chr&gt;</th><th scope=col>⋯</th><th scope=col>&lt;dbl&gt;</th><th scope=col>&lt;dbl&gt;</th><th scope=col>&lt;dbl&gt;</th><th scope=col>&lt;dbl&gt;</th><th scope=col>&lt;chr&gt;</th><th scope=col>&lt;chr&gt;</th><th scope=col>&lt;chr&gt;</th><th scope=col>&lt;chr&gt;</th><th scope=col>&lt;chr&gt;</th><th scope=col>&lt;dbl&gt;</th></tr>\n",
       "</thead>\n",
       "<tbody>\n",
       "\t<tr><th scope=row>1</th><td>0</td><td>19</td><td>Female</td><td> 10049</td><td>Married </td><td>1</td><td>Bachelor's </td><td>Self-Employed</td><td>22.59876</td><td>Urban   </td><td>⋯</td><td>2</td><td>17</td><td>372</td><td>5</td><td>2023-12-23 15:21:39.134960</td><td>Poor   </td><td>No </td><td>Weekly </td><td>House    </td><td>2869</td></tr>\n",
       "\t<tr><th scope=row>2</th><td>1</td><td>39</td><td>Female</td><td> 31678</td><td>Divorced</td><td>3</td><td>Master's   </td><td>             </td><td>15.56973</td><td>Rural   </td><td>⋯</td><td>1</td><td>12</td><td>694</td><td>2</td><td>2023-06-12 15:21:39.111551</td><td>Average</td><td>Yes</td><td>Monthly</td><td>House    </td><td>1483</td></tr>\n",
       "\t<tr><th scope=row>3</th><td>2</td><td>23</td><td>Male  </td><td> 25602</td><td>Divorced</td><td>3</td><td>High School</td><td>Self-Employed</td><td>47.17755</td><td>Suburban</td><td>⋯</td><td>1</td><td>14</td><td> NA</td><td>3</td><td>2023-09-30 15:21:39.221386</td><td>Good   </td><td>Yes</td><td>Weekly </td><td>House    </td><td> 567</td></tr>\n",
       "\t<tr><th scope=row>4</th><td>3</td><td>21</td><td>Male  </td><td>141855</td><td>Married </td><td>2</td><td>Bachelor's </td><td>             </td><td>10.93814</td><td>Rural   </td><td>⋯</td><td>1</td><td> 0</td><td>367</td><td>1</td><td>2024-06-12 15:21:39.226954</td><td>Poor   </td><td>Yes</td><td>Daily  </td><td>Apartment</td><td> 765</td></tr>\n",
       "\t<tr><th scope=row>5</th><td>4</td><td>21</td><td>Male  </td><td> 39651</td><td>Single  </td><td>1</td><td>Bachelor's </td><td>Self-Employed</td><td>20.37609</td><td>Rural   </td><td>⋯</td><td>0</td><td> 8</td><td>598</td><td>4</td><td>2021-12-01 15:21:39.252145</td><td>Poor   </td><td>Yes</td><td>Weekly </td><td>House    </td><td>2022</td></tr>\n",
       "\t<tr><th scope=row>6</th><td>5</td><td>29</td><td>Male  </td><td> 45963</td><td>Married </td><td>1</td><td>Bachelor's </td><td>             </td><td>33.05320</td><td>Urban   </td><td>⋯</td><td>2</td><td> 4</td><td>614</td><td>5</td><td>2022-05-20 15:21:39.207847</td><td>Average</td><td>No </td><td>Weekly </td><td>House    </td><td>3202</td></tr>\n",
       "</tbody>\n",
       "</table>\n"
      ],
      "text/latex": [
       "A data.frame: 6 × 21\n",
       "\\begin{tabular}{r|lllllllllllllllllllll}\n",
       "  & id & age & gender & annual\\_income & marital\\_status & number\\_of\\_dependents & education\\_level & occupation & health\\_score & location & ⋯ & previous\\_claims & vehicle\\_age & credit\\_score & insurance\\_duration & policy\\_start\\_date & customer\\_feedback & smoking\\_status & exercise\\_frequency & property\\_type & premium\\_amount\\\\\n",
       "  & <int> & <dbl> & <chr> & <dbl> & <chr> & <dbl> & <chr> & <chr> & <dbl> & <chr> & ⋯ & <dbl> & <dbl> & <dbl> & <dbl> & <chr> & <chr> & <chr> & <chr> & <chr> & <dbl>\\\\\n",
       "\\hline\n",
       "\t1 & 0 & 19 & Female &  10049 & Married  & 1 & Bachelor's  & Self-Employed & 22.59876 & Urban    & ⋯ & 2 & 17 & 372 & 5 & 2023-12-23 15:21:39.134960 & Poor    & No  & Weekly  & House     & 2869\\\\\n",
       "\t2 & 1 & 39 & Female &  31678 & Divorced & 3 & Master's    &               & 15.56973 & Rural    & ⋯ & 1 & 12 & 694 & 2 & 2023-06-12 15:21:39.111551 & Average & Yes & Monthly & House     & 1483\\\\\n",
       "\t3 & 2 & 23 & Male   &  25602 & Divorced & 3 & High School & Self-Employed & 47.17755 & Suburban & ⋯ & 1 & 14 &  NA & 3 & 2023-09-30 15:21:39.221386 & Good    & Yes & Weekly  & House     &  567\\\\\n",
       "\t4 & 3 & 21 & Male   & 141855 & Married  & 2 & Bachelor's  &               & 10.93814 & Rural    & ⋯ & 1 &  0 & 367 & 1 & 2024-06-12 15:21:39.226954 & Poor    & Yes & Daily   & Apartment &  765\\\\\n",
       "\t5 & 4 & 21 & Male   &  39651 & Single   & 1 & Bachelor's  & Self-Employed & 20.37609 & Rural    & ⋯ & 0 &  8 & 598 & 4 & 2021-12-01 15:21:39.252145 & Poor    & Yes & Weekly  & House     & 2022\\\\\n",
       "\t6 & 5 & 29 & Male   &  45963 & Married  & 1 & Bachelor's  &               & 33.05320 & Urban    & ⋯ & 2 &  4 & 614 & 5 & 2022-05-20 15:21:39.207847 & Average & No  & Weekly  & House     & 3202\\\\\n",
       "\\end{tabular}\n"
      ],
      "text/markdown": [
       "\n",
       "A data.frame: 6 × 21\n",
       "\n",
       "| <!--/--> | id &lt;int&gt; | age &lt;dbl&gt; | gender &lt;chr&gt; | annual_income &lt;dbl&gt; | marital_status &lt;chr&gt; | number_of_dependents &lt;dbl&gt; | education_level &lt;chr&gt; | occupation &lt;chr&gt; | health_score &lt;dbl&gt; | location &lt;chr&gt; | ⋯ ⋯ | previous_claims &lt;dbl&gt; | vehicle_age &lt;dbl&gt; | credit_score &lt;dbl&gt; | insurance_duration &lt;dbl&gt; | policy_start_date &lt;chr&gt; | customer_feedback &lt;chr&gt; | smoking_status &lt;chr&gt; | exercise_frequency &lt;chr&gt; | property_type &lt;chr&gt; | premium_amount &lt;dbl&gt; |\n",
       "|---|---|---|---|---|---|---|---|---|---|---|---|---|---|---|---|---|---|---|---|---|---|\n",
       "| 1 | 0 | 19 | Female |  10049 | Married  | 1 | Bachelor's  | Self-Employed | 22.59876 | Urban    | ⋯ | 2 | 17 | 372 | 5 | 2023-12-23 15:21:39.134960 | Poor    | No  | Weekly  | House     | 2869 |\n",
       "| 2 | 1 | 39 | Female |  31678 | Divorced | 3 | Master's    | <!----> | 15.56973 | Rural    | ⋯ | 1 | 12 | 694 | 2 | 2023-06-12 15:21:39.111551 | Average | Yes | Monthly | House     | 1483 |\n",
       "| 3 | 2 | 23 | Male   |  25602 | Divorced | 3 | High School | Self-Employed | 47.17755 | Suburban | ⋯ | 1 | 14 |  NA | 3 | 2023-09-30 15:21:39.221386 | Good    | Yes | Weekly  | House     |  567 |\n",
       "| 4 | 3 | 21 | Male   | 141855 | Married  | 2 | Bachelor's  | <!----> | 10.93814 | Rural    | ⋯ | 1 |  0 | 367 | 1 | 2024-06-12 15:21:39.226954 | Poor    | Yes | Daily   | Apartment |  765 |\n",
       "| 5 | 4 | 21 | Male   |  39651 | Single   | 1 | Bachelor's  | Self-Employed | 20.37609 | Rural    | ⋯ | 0 |  8 | 598 | 4 | 2021-12-01 15:21:39.252145 | Poor    | Yes | Weekly  | House     | 2022 |\n",
       "| 6 | 5 | 29 | Male   |  45963 | Married  | 1 | Bachelor's  | <!----> | 33.05320 | Urban    | ⋯ | 2 |  4 | 614 | 5 | 2022-05-20 15:21:39.207847 | Average | No  | Weekly  | House     | 3202 |\n",
       "\n"
      ],
      "text/plain": [
       "  id age gender annual_income marital_status number_of_dependents\n",
       "1 0  19  Female  10049        Married        1                   \n",
       "2 1  39  Female  31678        Divorced       3                   \n",
       "3 2  23  Male    25602        Divorced       3                   \n",
       "4 3  21  Male   141855        Married        2                   \n",
       "5 4  21  Male    39651        Single         1                   \n",
       "6 5  29  Male    45963        Married        1                   \n",
       "  education_level occupation    health_score location ⋯ previous_claims\n",
       "1 Bachelor's      Self-Employed 22.59876     Urban    ⋯ 2              \n",
       "2 Master's                      15.56973     Rural    ⋯ 1              \n",
       "3 High School     Self-Employed 47.17755     Suburban ⋯ 1              \n",
       "4 Bachelor's                    10.93814     Rural    ⋯ 1              \n",
       "5 Bachelor's      Self-Employed 20.37609     Rural    ⋯ 0              \n",
       "6 Bachelor's                    33.05320     Urban    ⋯ 2              \n",
       "  vehicle_age credit_score insurance_duration policy_start_date         \n",
       "1 17          372          5                  2023-12-23 15:21:39.134960\n",
       "2 12          694          2                  2023-06-12 15:21:39.111551\n",
       "3 14           NA          3                  2023-09-30 15:21:39.221386\n",
       "4  0          367          1                  2024-06-12 15:21:39.226954\n",
       "5  8          598          4                  2021-12-01 15:21:39.252145\n",
       "6  4          614          5                  2022-05-20 15:21:39.207847\n",
       "  customer_feedback smoking_status exercise_frequency property_type\n",
       "1 Poor              No             Weekly             House        \n",
       "2 Average           Yes            Monthly            House        \n",
       "3 Good              Yes            Weekly             House        \n",
       "4 Poor              Yes            Daily              Apartment    \n",
       "5 Poor              Yes            Weekly             House        \n",
       "6 Average           No             Weekly             House        \n",
       "  premium_amount\n",
       "1 2869          \n",
       "2 1483          \n",
       "3  567          \n",
       "4  765          \n",
       "5 2022          \n",
       "6 3202          "
      ]
     },
     "metadata": {},
     "output_type": "display_data"
    },
    {
     "data": {
      "text/html": [
       "<style>\n",
       ".dl-inline {width: auto; margin:0; padding: 0}\n",
       ".dl-inline>dt, .dl-inline>dd {float: none; width: auto; display: inline-block}\n",
       ".dl-inline>dt::after {content: \":\\0020\"; padding-right: .5ex}\n",
       ".dl-inline>dt:not(:first-of-type) {padding-left: .5ex}\n",
       "</style><dl class=dl-inline><dt>id</dt><dd>0</dd><dt>age</dt><dd>18705</dd><dt>gender</dt><dd>0</dd><dt>annual_income</dt><dd>44949</dd><dt>marital_status</dt><dd>0</dd><dt>number_of_dependents</dt><dd>109672</dd><dt>education_level</dt><dd>0</dd><dt>occupation</dt><dd>0</dd><dt>health_score</dt><dd>74076</dd><dt>location</dt><dd>0</dd><dt>policy_type</dt><dd>0</dd><dt>previous_claims</dt><dd>364029</dd><dt>vehicle_age</dt><dd>6</dd><dt>credit_score</dt><dd>137882</dd><dt>insurance_duration</dt><dd>1</dd><dt>policy_start_date</dt><dd>0</dd><dt>customer_feedback</dt><dd>0</dd><dt>smoking_status</dt><dd>0</dd><dt>exercise_frequency</dt><dd>0</dd><dt>property_type</dt><dd>0</dd><dt>premium_amount</dt><dd>0</dd></dl>\n"
      ],
      "text/latex": [
       "\\begin{description*}\n",
       "\\item[id] 0\n",
       "\\item[age] 18705\n",
       "\\item[gender] 0\n",
       "\\item[annual\\textbackslash{}\\_income] 44949\n",
       "\\item[marital\\textbackslash{}\\_status] 0\n",
       "\\item[number\\textbackslash{}\\_of\\textbackslash{}\\_dependents] 109672\n",
       "\\item[education\\textbackslash{}\\_level] 0\n",
       "\\item[occupation] 0\n",
       "\\item[health\\textbackslash{}\\_score] 74076\n",
       "\\item[location] 0\n",
       "\\item[policy\\textbackslash{}\\_type] 0\n",
       "\\item[previous\\textbackslash{}\\_claims] 364029\n",
       "\\item[vehicle\\textbackslash{}\\_age] 6\n",
       "\\item[credit\\textbackslash{}\\_score] 137882\n",
       "\\item[insurance\\textbackslash{}\\_duration] 1\n",
       "\\item[policy\\textbackslash{}\\_start\\textbackslash{}\\_date] 0\n",
       "\\item[customer\\textbackslash{}\\_feedback] 0\n",
       "\\item[smoking\\textbackslash{}\\_status] 0\n",
       "\\item[exercise\\textbackslash{}\\_frequency] 0\n",
       "\\item[property\\textbackslash{}\\_type] 0\n",
       "\\item[premium\\textbackslash{}\\_amount] 0\n",
       "\\end{description*}\n"
      ],
      "text/markdown": [
       "id\n",
       ":   0age\n",
       ":   18705gender\n",
       ":   0annual_income\n",
       ":   44949marital_status\n",
       ":   0number_of_dependents\n",
       ":   109672education_level\n",
       ":   0occupation\n",
       ":   0health_score\n",
       ":   74076location\n",
       ":   0policy_type\n",
       ":   0previous_claims\n",
       ":   364029vehicle_age\n",
       ":   6credit_score\n",
       ":   137882insurance_duration\n",
       ":   1policy_start_date\n",
       ":   0customer_feedback\n",
       ":   0smoking_status\n",
       ":   0exercise_frequency\n",
       ":   0property_type\n",
       ":   0premium_amount\n",
       ":   0\n",
       "\n"
      ],
      "text/plain": [
       "                  id                  age               gender \n",
       "                   0                18705                    0 \n",
       "       annual_income       marital_status number_of_dependents \n",
       "               44949                    0               109672 \n",
       "     education_level           occupation         health_score \n",
       "                   0                    0                74076 \n",
       "            location          policy_type      previous_claims \n",
       "                   0                    0               364029 \n",
       "         vehicle_age         credit_score   insurance_duration \n",
       "                   6               137882                    1 \n",
       "   policy_start_date    customer_feedback       smoking_status \n",
       "                   0                    0                    0 \n",
       "  exercise_frequency        property_type       premium_amount \n",
       "                   0                    0                    0 "
      ]
     },
     "metadata": {},
     "output_type": "display_data"
    }
   ],
   "source": [
    "# Print the first few rows \n",
    "head(train_df)\n",
    "\n",
    "# Check for missing values\n",
    "colSums(is.na(train_df))"
   ]
  },
  {
   "cell_type": "markdown",
   "id": "083bcb04",
   "metadata": {
    "papermill": {
     "duration": 0.004089,
     "end_time": "2024-12-02T08:36:36.874779",
     "exception": false,
     "start_time": "2024-12-02T08:36:36.870690",
     "status": "completed"
    },
    "tags": []
   },
   "source": [
    "## Impute NA values"
   ]
  },
  {
   "cell_type": "code",
   "execution_count": 6,
   "id": "0c95f4ac",
   "metadata": {
    "execution": {
     "iopub.execute_input": "2024-12-02T08:36:36.886413Z",
     "iopub.status.busy": "2024-12-02T08:36:36.884948Z",
     "iopub.status.idle": "2024-12-02T08:36:39.690650Z",
     "shell.execute_reply": "2024-12-02T08:36:39.688337Z"
    },
    "papermill": {
     "duration": 2.814755,
     "end_time": "2024-12-02T08:36:39.693624",
     "exception": false,
     "start_time": "2024-12-02T08:36:36.878869",
     "status": "completed"
    },
    "tags": []
   },
   "outputs": [
    {
     "data": {
      "text/html": [
       "<style>\n",
       ".dl-inline {width: auto; margin:0; padding: 0}\n",
       ".dl-inline>dt, .dl-inline>dd {float: none; width: auto; display: inline-block}\n",
       ".dl-inline>dt::after {content: \":\\0020\"; padding-right: .5ex}\n",
       ".dl-inline>dt:not(:first-of-type) {padding-left: .5ex}\n",
       "</style><dl class=dl-inline><dt>id</dt><dd>0</dd><dt>age</dt><dd>0</dd><dt>gender</dt><dd>0</dd><dt>annual_income</dt><dd>0</dd><dt>marital_status</dt><dd>0</dd><dt>number_of_dependents</dt><dd>0</dd><dt>education_level</dt><dd>0</dd><dt>occupation</dt><dd>0</dd><dt>health_score</dt><dd>0</dd><dt>location</dt><dd>0</dd><dt>policy_type</dt><dd>0</dd><dt>previous_claims</dt><dd>0</dd><dt>vehicle_age</dt><dd>0</dd><dt>credit_score</dt><dd>0</dd><dt>insurance_duration</dt><dd>0</dd><dt>policy_start_date</dt><dd>0</dd><dt>customer_feedback</dt><dd>0</dd><dt>smoking_status</dt><dd>0</dd><dt>exercise_frequency</dt><dd>0</dd><dt>property_type</dt><dd>0</dd><dt>premium_amount</dt><dd>0</dd></dl>\n"
      ],
      "text/latex": [
       "\\begin{description*}\n",
       "\\item[id] 0\n",
       "\\item[age] 0\n",
       "\\item[gender] 0\n",
       "\\item[annual\\textbackslash{}\\_income] 0\n",
       "\\item[marital\\textbackslash{}\\_status] 0\n",
       "\\item[number\\textbackslash{}\\_of\\textbackslash{}\\_dependents] 0\n",
       "\\item[education\\textbackslash{}\\_level] 0\n",
       "\\item[occupation] 0\n",
       "\\item[health\\textbackslash{}\\_score] 0\n",
       "\\item[location] 0\n",
       "\\item[policy\\textbackslash{}\\_type] 0\n",
       "\\item[previous\\textbackslash{}\\_claims] 0\n",
       "\\item[vehicle\\textbackslash{}\\_age] 0\n",
       "\\item[credit\\textbackslash{}\\_score] 0\n",
       "\\item[insurance\\textbackslash{}\\_duration] 0\n",
       "\\item[policy\\textbackslash{}\\_start\\textbackslash{}\\_date] 0\n",
       "\\item[customer\\textbackslash{}\\_feedback] 0\n",
       "\\item[smoking\\textbackslash{}\\_status] 0\n",
       "\\item[exercise\\textbackslash{}\\_frequency] 0\n",
       "\\item[property\\textbackslash{}\\_type] 0\n",
       "\\item[premium\\textbackslash{}\\_amount] 0\n",
       "\\end{description*}\n"
      ],
      "text/markdown": [
       "id\n",
       ":   0age\n",
       ":   0gender\n",
       ":   0annual_income\n",
       ":   0marital_status\n",
       ":   0number_of_dependents\n",
       ":   0education_level\n",
       ":   0occupation\n",
       ":   0health_score\n",
       ":   0location\n",
       ":   0policy_type\n",
       ":   0previous_claims\n",
       ":   0vehicle_age\n",
       ":   0credit_score\n",
       ":   0insurance_duration\n",
       ":   0policy_start_date\n",
       ":   0customer_feedback\n",
       ":   0smoking_status\n",
       ":   0exercise_frequency\n",
       ":   0property_type\n",
       ":   0premium_amount\n",
       ":   0\n",
       "\n"
      ],
      "text/plain": [
       "                  id                  age               gender \n",
       "                   0                    0                    0 \n",
       "       annual_income       marital_status number_of_dependents \n",
       "                   0                    0                    0 \n",
       "     education_level           occupation         health_score \n",
       "                   0                    0                    0 \n",
       "            location          policy_type      previous_claims \n",
       "                   0                    0                    0 \n",
       "         vehicle_age         credit_score   insurance_duration \n",
       "                   0                    0                    0 \n",
       "   policy_start_date    customer_feedback       smoking_status \n",
       "                   0                    0                    0 \n",
       "  exercise_frequency        property_type       premium_amount \n",
       "                   0                    0                    0 "
      ]
     },
     "metadata": {},
     "output_type": "display_data"
    }
   ],
   "source": [
    "# Replace NA values and drop rows that cannot be imputed\n",
    "train_df <- train_df %>%\n",
    "  mutate(\n",
    "    age = ifelse(is.na(age), median(age, na.rm = TRUE), age),\n",
    "    annual_income = ifelse(is.na(annual_income), median(annual_income, na.rm = TRUE), annual_income),\n",
    "    number_of_dependents = ifelse(is.na(number_of_dependents), \n",
    "                                  as.numeric(names(sort(table(number_of_dependents), decreasing = TRUE)[1])), \n",
    "                                  number_of_dependents),\n",
    "    health_score = ifelse(is.na(health_score), median(health_score, na.rm = TRUE), health_score),\n",
    "    previous_claims = ifelse(is.na(previous_claims), 0, previous_claims),\n",
    "    vehicle_age = ifelse(is.na(vehicle_age), median(vehicle_age, na.rm = TRUE), vehicle_age),\n",
    "    credit_score = ifelse(is.na(credit_score), mean(credit_score, na.rm = TRUE), credit_score)\n",
    "  ) %>%\n",
    "  drop_na()  # Drops rows with remaining NA values\n",
    "\n",
    "# Check for missing values\n",
    "colSums(is.na(train_df))"
   ]
  },
  {
   "cell_type": "markdown",
   "id": "d24ae6b2",
   "metadata": {
    "papermill": {
     "duration": 0.004324,
     "end_time": "2024-12-02T08:36:39.702291",
     "exception": false,
     "start_time": "2024-12-02T08:36:39.697967",
     "status": "completed"
    },
    "tags": []
   },
   "source": [
    "## Convert dates and categorical values"
   ]
  },
  {
   "cell_type": "code",
   "execution_count": 7,
   "id": "603b7d29",
   "metadata": {
    "execution": {
     "iopub.execute_input": "2024-12-02T08:36:39.714477Z",
     "iopub.status.busy": "2024-12-02T08:36:39.712951Z",
     "iopub.status.idle": "2024-12-02T08:36:43.796092Z",
     "shell.execute_reply": "2024-12-02T08:36:43.794342Z"
    },
    "papermill": {
     "duration": 4.092768,
     "end_time": "2024-12-02T08:36:43.799355",
     "exception": false,
     "start_time": "2024-12-02T08:36:39.706587",
     "status": "completed"
    },
    "tags": []
   },
   "outputs": [],
   "source": [
    "train_df <- train_df %>%\n",
    "  mutate(across(c(gender, marital_status, education_level, occupation, \n",
    "                  location, policy_type, customer_feedback, smoking_status, \n",
    "                  property_type), as.factor),\n",
    "         policy_start_date = as.Date(policy_start_date),\n",
    "         across(c(insurance_duration, vehicle_age), as.numeric))"
   ]
  },
  {
   "cell_type": "code",
   "execution_count": 8,
   "id": "3c100e9f",
   "metadata": {
    "execution": {
     "iopub.execute_input": "2024-12-02T08:36:43.812428Z",
     "iopub.status.busy": "2024-12-02T08:36:43.810886Z",
     "iopub.status.idle": "2024-12-02T08:36:45.195824Z",
     "shell.execute_reply": "2024-12-02T08:36:45.193491Z"
    },
    "papermill": {
     "duration": 1.395174,
     "end_time": "2024-12-02T08:36:45.198921",
     "exception": false,
     "start_time": "2024-12-02T08:36:43.803747",
     "status": "completed"
    },
    "tags": []
   },
   "outputs": [
    {
     "data": {
      "text/plain": [
       "       id               age           gender       annual_income   \n",
       " Min.   :      0   Min.   :18.00   Female:597429   Min.   :     1  \n",
       " 1st Qu.: 300000   1st Qu.:30.00   Male  :602570   1st Qu.:  8646  \n",
       " Median : 599999   Median :41.00                   Median : 23911  \n",
       " Mean   : 599999   Mean   :41.14                   Mean   : 32414  \n",
       " 3rd Qu.: 900000   3rd Qu.:53.00                   3rd Qu.: 43936  \n",
       " Max.   :1199999   Max.   :64.00                   Max.   :149997  \n",
       "  marital_status   number_of_dependents    education_level  \n",
       "         : 18529   Min.   :0.0          Bachelor's :303234  \n",
       " Divorced:391764   1st Qu.:1.0          High School:289441  \n",
       " Married :394315   Median :2.0          Master's   :303817  \n",
       " Single  :395391   Mean   :2.1          PhD        :303507  \n",
       "                   3rd Qu.:3.0                              \n",
       "                   Max.   :4.0                              \n",
       "         occupation      health_score        location     \n",
       "              :358075   Min.   : 2.012   Rural   :400947  \n",
       " Employed     :282749   1st Qu.:16.555   Suburban:401541  \n",
       " Self-Employed:282645   Median :24.579   Urban   :397511  \n",
       " Unemployed   :276530   Mean   :25.550                    \n",
       "                        3rd Qu.:33.773                    \n",
       "                        Max.   :58.976                    \n",
       "        policy_type     previous_claims   vehicle_age     credit_score  \n",
       " Basic        :398553   Min.   :0.0000   Min.   : 0.00   Min.   :300.0  \n",
       " Comprehensive:399600   1st Qu.:0.0000   1st Qu.: 5.00   1st Qu.:484.0  \n",
       " Premium      :401846   Median :0.0000   Median :10.00   Median :592.9  \n",
       "                        Mean   :0.6985   Mean   : 9.57   Mean   :592.9  \n",
       "                        3rd Qu.:1.0000   3rd Qu.:15.00   3rd Qu.:706.0  \n",
       "                        Max.   :9.0000   Max.   :19.00   Max.   :849.0  \n",
       " insurance_duration policy_start_date    customer_feedback smoking_status\n",
       " Min.   :1.000      Min.   :2019-08-17          : 77824    No :598127    \n",
       " 1st Qu.:3.000      1st Qu.:2020-11-20   Average:377905    Yes:601872    \n",
       " Median :5.000      Median :2022-02-14   Good   :368753                  \n",
       " Mean   :5.018      Mean   :2022-02-12   Poor   :375517                  \n",
       " 3rd Qu.:7.000      3rd Qu.:2023-05-06                                   \n",
       " Max.   :9.000      Max.   :2024-08-15                                   \n",
       " exercise_frequency   property_type    premium_amount\n",
       " Length:1199999     Apartment:399977   Min.   :  20  \n",
       " Class :character   Condo    :399673   1st Qu.: 514  \n",
       " Mode  :character   House    :400349   Median : 872  \n",
       "                                       Mean   :1103  \n",
       "                                       3rd Qu.:1509  \n",
       "                                       Max.   :4999  "
      ]
     },
     "metadata": {},
     "output_type": "display_data"
    }
   ],
   "source": [
    "summary(train_df)"
   ]
  },
  {
   "cell_type": "code",
   "execution_count": 9,
   "id": "f248070b",
   "metadata": {
    "execution": {
     "iopub.execute_input": "2024-12-02T08:36:45.211675Z",
     "iopub.status.busy": "2024-12-02T08:36:45.210161Z",
     "iopub.status.idle": "2024-12-02T08:36:45.550146Z",
     "shell.execute_reply": "2024-12-02T08:36:45.547917Z"
    },
    "papermill": {
     "duration": 0.350328,
     "end_time": "2024-12-02T08:36:45.553792",
     "exception": false,
     "start_time": "2024-12-02T08:36:45.203464",
     "status": "completed"
    },
    "tags": []
   },
   "outputs": [
    {
     "data": {
      "text/html": [
       "<table class=\"dataframe\">\n",
       "<caption>A matrix: 2 × 6 of type dbl</caption>\n",
       "<thead>\n",
       "\t<tr><th></th><th scope=col>used</th><th scope=col>(Mb)</th><th scope=col>gc trigger</th><th scope=col>(Mb)</th><th scope=col>max used</th><th scope=col>(Mb)</th></tr>\n",
       "</thead>\n",
       "<tbody>\n",
       "\t<tr><th scope=row>Ncells</th><td> 2758996</td><td>147.4</td><td> 7775897</td><td>415.3</td><td> 4893695</td><td>261.4</td></tr>\n",
       "\t<tr><th scope=row>Vcells</th><td>41942795</td><td>320.0</td><td>92782574</td><td>707.9</td><td>92705067</td><td>707.3</td></tr>\n",
       "</tbody>\n",
       "</table>\n"
      ],
      "text/latex": [
       "A matrix: 2 × 6 of type dbl\n",
       "\\begin{tabular}{r|llllll}\n",
       "  & used & (Mb) & gc trigger & (Mb) & max used & (Mb)\\\\\n",
       "\\hline\n",
       "\tNcells &  2758996 & 147.4 &  7775897 & 415.3 &  4893695 & 261.4\\\\\n",
       "\tVcells & 41942795 & 320.0 & 92782574 & 707.9 & 92705067 & 707.3\\\\\n",
       "\\end{tabular}\n"
      ],
      "text/markdown": [
       "\n",
       "A matrix: 2 × 6 of type dbl\n",
       "\n",
       "| <!--/--> | used | (Mb) | gc trigger | (Mb) | max used | (Mb) |\n",
       "|---|---|---|---|---|---|---|\n",
       "| Ncells |  2758996 | 147.4 |  7775897 | 415.3 |  4893695 | 261.4 |\n",
       "| Vcells | 41942795 | 320.0 | 92782574 | 707.9 | 92705067 | 707.3 |\n",
       "\n"
      ],
      "text/plain": [
       "       used     (Mb)  gc trigger (Mb)  max used (Mb) \n",
       "Ncells  2758996 147.4  7775897   415.3  4893695 261.4\n",
       "Vcells 41942795 320.0 92782574   707.9 92705067 707.3"
      ]
     },
     "metadata": {},
     "output_type": "display_data"
    },
    {
     "data": {
      "text/html": [
       "<style>\n",
       ".list-inline {list-style: none; margin:0; padding: 0}\n",
       ".list-inline>li {display: inline-block}\n",
       ".list-inline>li:not(:last-child)::after {content: \"\\00b7\"; padding: 0 .5ex}\n",
       "</style>\n",
       "<ol class=list-inline><li>1199999</li><li>21</li></ol>\n"
      ],
      "text/latex": [
       "\\begin{enumerate*}\n",
       "\\item 1199999\n",
       "\\item 21\n",
       "\\end{enumerate*}\n"
      ],
      "text/markdown": [
       "1. 1199999\n",
       "2. 21\n",
       "\n",
       "\n"
      ],
      "text/plain": [
       "[1] 1199999      21"
      ]
     },
     "metadata": {},
     "output_type": "display_data"
    }
   ],
   "source": [
    "# Clean and check memory usage\n",
    "gc()\n",
    "\n",
    "# Check dimensions of the dataset\n",
    "dim(train_df)"
   ]
  },
  {
   "cell_type": "markdown",
   "id": "6312303a",
   "metadata": {
    "papermill": {
     "duration": 0.004669,
     "end_time": "2024-12-02T08:36:45.563469",
     "exception": false,
     "start_time": "2024-12-02T08:36:45.558800",
     "status": "completed"
    },
    "tags": []
   },
   "source": [
    "# Modeling"
   ]
  },
  {
   "cell_type": "code",
   "execution_count": 10,
   "id": "33f36e30",
   "metadata": {
    "execution": {
     "iopub.execute_input": "2024-12-02T08:36:45.576678Z",
     "iopub.status.busy": "2024-12-02T08:36:45.574854Z",
     "iopub.status.idle": "2024-12-02T08:36:46.747804Z",
     "shell.execute_reply": "2024-12-02T08:36:46.746047Z"
    },
    "papermill": {
     "duration": 1.182801,
     "end_time": "2024-12-02T08:36:46.750954",
     "exception": false,
     "start_time": "2024-12-02T08:36:45.568153",
     "status": "completed"
    },
    "tags": []
   },
   "outputs": [],
   "source": [
    "# Splitting the data\n",
    "set.seed(123)\n",
    "train_index <- createDataPartition(train_df$premium_amount, p = 0.8, list = FALSE)\n",
    "train_set <- train_df[train_index, ]\n",
    "test_set <- train_df[-train_index, ]"
   ]
  },
  {
   "cell_type": "code",
   "execution_count": 11,
   "id": "73723c9e",
   "metadata": {
    "execution": {
     "iopub.execute_input": "2024-12-02T08:36:46.764296Z",
     "iopub.status.busy": "2024-12-02T08:36:46.762818Z",
     "iopub.status.idle": "2024-12-02T08:37:05.168803Z",
     "shell.execute_reply": "2024-12-02T08:37:05.166749Z"
    },
    "papermill": {
     "duration": 18.415649,
     "end_time": "2024-12-02T08:37:05.171658",
     "exception": false,
     "start_time": "2024-12-02T08:36:46.756009",
     "status": "completed"
    },
    "tags": []
   },
   "outputs": [
    {
     "name": "stderr",
     "output_type": "stream",
     "text": [
      "Warning message in storage.mode(data) <- \"double\":\n",
      "“NAs introduced by coercion”\n"
     ]
    },
    {
     "name": "stdout",
     "output_type": "stream",
     "text": [
      "[1] \"LightGBM RMSE: 869.449679999836\"\n"
     ]
    }
   ],
   "source": [
    "# Prepare data\n",
    "train_matrix <- as.matrix(train_set %>% select(-premium_amount))\n",
    "train_label <- train_set$premium_amount\n",
    "test_matrix <- as.matrix(test_set %>% select(-premium_amount))\n",
    "\n",
    "# Create LightGBM dataset\n",
    "lgb_train <- lgb.Dataset(data = train_matrix, label = train_label)\n",
    "\n",
    "# Train the model\n",
    "lgb_model <- lgb.train(\n",
    "  params = list(objective = \"regression\", metric = \"rmse\", boosting_type = \"gbdt\"),\n",
    "  data = lgb_train,\n",
    "  nrounds = 100,\n",
    "  learning_rate = 0.1,\n",
    "  num_leaves = 31\n",
    ")\n",
    "\n",
    "# Predict and evaluate\n",
    "pred_lgb <- predict(lgb_model, test_matrix)\n",
    "lgb_rmse <- sqrt(mean((pred_lgb - test_set$premium_amount)^2))\n",
    "print(paste(\"LightGBM RMSE:\", lgb_rmse))"
   ]
  },
  {
   "cell_type": "code",
   "execution_count": 12,
   "id": "0820eedb",
   "metadata": {
    "execution": {
     "iopub.execute_input": "2024-12-02T08:37:05.185675Z",
     "iopub.status.busy": "2024-12-02T08:37:05.184151Z",
     "iopub.status.idle": "2024-12-02T08:37:07.301324Z",
     "shell.execute_reply": "2024-12-02T08:37:07.299570Z"
    },
    "papermill": {
     "duration": 2.126331,
     "end_time": "2024-12-02T08:37:07.303726",
     "exception": false,
     "start_time": "2024-12-02T08:37:05.177395",
     "status": "completed"
    },
    "tags": []
   },
   "outputs": [
    {
     "data": {
      "image/png": "[encoded data removed]"
     },
     "metadata": {
      "image/png": {
       "height": 420,
       "width": 420
      }
     },
     "output_type": "display_data"
    }
   ],
   "source": [
    "lgb.importance(lgb_model) %>%\n",
    "  lgb.plot.importance()"
   ]
  }
 ],
 "metadata": {
  "kaggle": {
   "accelerator": "none",
   "dataSources": [
    {
     "databundleVersionId": 10305135,
     "sourceId": 84896,
     "sourceType": "competition"
    }
   ],
   "dockerImageVersionId": 30749,
   "isGpuEnabled": false,
   "isInternetEnabled": true,
   "language": "r",
   "sourceType": "notebook"
  },
  "kernelspec": {
   "display_name": "R",
   "language": "R",
   "name": "ir"
  },
  "language_info": {
   "codemirror_mode": "r",
   "file_extension": ".r",
   "mimetype": "text/x-r-source",
   "name": "R",
   "pygments_lexer": "r",
   "version": "4.4.0"
  },
  "papermill": {
   "default_parameters": {},
   "duration": 68.646602,
   "end_time": "2024-12-02T08:37:07.530934",
   "environment_variables": {},
   "exception": null,
   "input_path": "__notebook__.ipynb",
   "output_path": "__notebook__.ipynb",
   "parameters": {},
   "start_time": "2024-12-02T08:35:58.884332",
   "version": "2.6.0"
  }
 },
 "nbformat": 4,
 "nbformat_minor": 5
}

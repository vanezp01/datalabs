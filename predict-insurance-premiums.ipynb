{
 "cells": [
  {
   "cell_type": "markdown",
   "id": "d7d4a1f8",
   "metadata": {
    "papermill": {
     "duration": 0.003759,
     "end_time": "2024-12-15T09:52:27.644673",
     "exception": false,
     "start_time": "2024-12-15T09:52:27.640914",
     "status": "completed"
    },
    "tags": []
   },
   "source": [
    "# Import libraries and data"
   ]
  },
  {
   "cell_type": "code",
   "execution_count": 1,
   "id": "afbbce07",
   "metadata": {
    "_execution_state": "idle",
    "_uuid": "051d70d956493feee0c6d64651c6a088724dca2a",
    "execution": {
     "iopub.execute_input": "2024-12-15T09:52:27.656191Z",
     "iopub.status.busy": "2024-12-15T09:52:27.653700Z",
     "iopub.status.idle": "2024-12-15T09:52:31.471544Z",
     "shell.execute_reply": "2024-12-15T09:52:31.469535Z"
    },
    "papermill": {
     "duration": 3.827198,
     "end_time": "2024-12-15T09:52:31.475020",
     "exception": false,
     "start_time": "2024-12-15T09:52:27.647822",
     "status": "completed"
    },
    "tags": []
   },
   "outputs": [],
   "source": [
    "# Import Libraries\n",
    "suppressPackageStartupMessages({\n",
    "\n",
    "library(tidyverse)  # Collection of packages including dplyr, ggplot2\n",
    "library(snakecase)  # Converts strings to snake_case format\n",
    "library(lubridate)  # Simplifies date and time handling\n",
    "library(naniar)     # Tools for exploring and handling missing data\n",
    "library(janitor)    # Data cleaning and examination functions\n",
    "library(caret)      # Machine learning training and evaluation\n",
    "library(lightgbm)   # Gradient boosting \n",
    "    \n",
    "})"
   ]
  },
  {
   "cell_type": "code",
   "execution_count": 2,
   "id": "c2ded26b",
   "metadata": {
    "execution": {
     "iopub.execute_input": "2024-12-15T09:52:31.516706Z",
     "iopub.status.busy": "2024-12-15T09:52:31.483476Z",
     "iopub.status.idle": "2024-12-15T09:52:40.101616Z",
     "shell.execute_reply": "2024-12-15T09:52:40.099516Z"
    },
    "papermill": {
     "duration": 8.626272,
     "end_time": "2024-12-15T09:52:40.104523",
     "exception": false,
     "start_time": "2024-12-15T09:52:31.478251",
     "status": "completed"
    },
    "tags": []
   },
   "outputs": [
    {
     "name": "stderr",
     "output_type": "stream",
     "text": [
      "\u001b[1mRows: \u001b[22m\u001b[34m1200000\u001b[39m \u001b[1mColumns: \u001b[22m\u001b[34m21\u001b[39m\n"
     ]
    },
    {
     "name": "stderr",
     "output_type": "stream",
     "text": [
      "\u001b[36m──\u001b[39m \u001b[1mColumn specification\u001b[22m \u001b[36m────────────────────────────────────────────────────────\u001b[39m\n",
      "\u001b[1mDelimiter:\u001b[22m \",\"\n",
      "\u001b[31mchr\u001b[39m  (10): Gender, Marital Status, Education Level, Occupation, Location, Po...\n",
      "\u001b[32mdbl\u001b[39m  (10): id, Age, Annual Income, Number of Dependents, Health Score, Previ...\n",
      "\u001b[34mdttm\u001b[39m  (1): Policy Start Date\n"
     ]
    },
    {
     "name": "stderr",
     "output_type": "stream",
     "text": [
      "\n",
      "\u001b[36mℹ\u001b[39m Use `spec()` to retrieve the full column specification for this data.\n",
      "\u001b[36mℹ\u001b[39m Specify the column types or set `show_col_types = FALSE` to quiet this message.\n"
     ]
    },
    {
     "name": "stderr",
     "output_type": "stream",
     "text": [
      "\u001b[1mRows: \u001b[22m\u001b[34m800000\u001b[39m \u001b[1mColumns: \u001b[22m\u001b[34m20\u001b[39m\n"
     ]
    },
    {
     "name": "stderr",
     "output_type": "stream",
     "text": [
      "\u001b[36m──\u001b[39m \u001b[1mColumn specification\u001b[22m \u001b[36m────────────────────────────────────────────────────────\u001b[39m\n",
      "\u001b[1mDelimiter:\u001b[22m \",\"\n",
      "\u001b[31mchr\u001b[39m  (10): Gender, Marital Status, Education Level, Occupation, Location, Po...\n",
      "\u001b[32mdbl\u001b[39m   (9): id, Age, Annual Income, Number of Dependents, Health Score, Previ...\n",
      "\u001b[34mdttm\u001b[39m  (1): Policy Start Date\n"
     ]
    },
    {
     "name": "stderr",
     "output_type": "stream",
     "text": [
      "\n",
      "\u001b[36mℹ\u001b[39m Use `spec()` to retrieve the full column specification for this data.\n",
      "\u001b[36mℹ\u001b[39m Specify the column types or set `show_col_types = FALSE` to quiet this message.\n"
     ]
    }
   ],
   "source": [
    "# Import data \n",
    "train <- read_csv(\"/kaggle/input/playground-series-s4e12/train.csv\")\n",
    "test <- read_csv(\"/kaggle/input/playground-series-s4e12/test.csv\")"
   ]
  },
  {
   "cell_type": "markdown",
   "id": "e2e41e2b",
   "metadata": {
    "papermill": {
     "duration": 0.003558,
     "end_time": "2024-12-15T09:52:40.111983",
     "exception": false,
     "start_time": "2024-12-15T09:52:40.108425",
     "status": "completed"
    },
    "tags": []
   },
   "source": [
    "# Explore and clean data"
   ]
  },
  {
   "cell_type": "code",
   "execution_count": 3,
   "id": "39dfcb8a",
   "metadata": {
    "execution": {
     "iopub.execute_input": "2024-12-15T09:52:40.122664Z",
     "iopub.status.busy": "2024-12-15T09:52:40.121045Z",
     "iopub.status.idle": "2024-12-15T09:52:41.179527Z",
     "shell.execute_reply": "2024-12-15T09:52:41.177854Z"
    },
    "papermill": {
     "duration": 1.066263,
     "end_time": "2024-12-15T09:52:41.181819",
     "exception": false,
     "start_time": "2024-12-15T09:52:40.115556",
     "status": "completed"
    },
    "tags": []
   },
   "outputs": [
    {
     "data": {
      "text/plain": [
       "       id               Age           Gender          Annual Income   \n",
       " Min.   :      0   Min.   :18.00   Length:1200000     Min.   :     1  \n",
       " 1st Qu.: 300000   1st Qu.:30.00   Class :character   1st Qu.:  8001  \n",
       " Median : 600000   Median :41.00   Mode  :character   Median : 23911  \n",
       " Mean   : 600000   Mean   :41.15                      Mean   : 32745  \n",
       " 3rd Qu.: 899999   3rd Qu.:53.00                      3rd Qu.: 44634  \n",
       " Max.   :1199999   Max.   :64.00                      Max.   :149997  \n",
       "                   NA's   :18705                      NA's   :44949   \n",
       " Marital Status     Number of Dependents Education Level     Occupation       \n",
       " Length:1200000     Min.   :0.00         Length:1200000     Length:1200000    \n",
       " Class :character   1st Qu.:1.00         Class :character   Class :character  \n",
       " Mode  :character   Median :2.00         Mode  :character   Mode  :character  \n",
       "                    Mean   :2.01                                              \n",
       "                    3rd Qu.:3.00                                              \n",
       "                    Max.   :4.00                                              \n",
       "                    NA's   :109672                                            \n",
       "  Health Score     Location         Policy Type        Previous Claims \n",
       " Min.   : 2.01   Length:1200000     Length:1200000     Min.   :0       \n",
       " 1st Qu.:15.92   Class :character   Class :character   1st Qu.:0       \n",
       " Median :24.58   Mode  :character   Mode  :character   Median :1       \n",
       " Mean   :25.61                                         Mean   :1       \n",
       " 3rd Qu.:34.53                                         3rd Qu.:2       \n",
       " Max.   :58.98                                         Max.   :9       \n",
       " NA's   :74076                                         NA's   :364029  \n",
       "  Vehicle Age     Credit Score    Insurance Duration\n",
       " Min.   : 0.00   Min.   :300.0    Min.   :1.000     \n",
       " 1st Qu.: 5.00   1st Qu.:468.0    1st Qu.:3.000     \n",
       " Median :10.00   Median :595.0    Median :5.000     \n",
       " Mean   : 9.57   Mean   :592.9    Mean   :5.018     \n",
       " 3rd Qu.:15.00   3rd Qu.:721.0    3rd Qu.:7.000     \n",
       " Max.   :19.00   Max.   :849.0    Max.   :9.000     \n",
       " NA's   :6       NA's   :137882   NA's   :1         \n",
       " Policy Start Date                Customer Feedback  Smoking Status    \n",
       " Min.   :2019-08-17 15:21:39.07   Length:1200000     Length:1200000    \n",
       " 1st Qu.:2020-11-20 15:21:39.11   Class :character   Class :character  \n",
       " Median :2022-02-14 15:21:39.15   Mode  :character   Mode  :character  \n",
       " Mean   :2022-02-13 05:06:30.97                                        \n",
       " 3rd Qu.:2023-05-06 15:21:39.18                                        \n",
       " Max.   :2024-08-15 15:21:39.28                                        \n",
       "                                                                       \n",
       " Exercise Frequency Property Type      Premium Amount\n",
       " Length:1200000     Length:1200000     Min.   :  20  \n",
       " Class :character   Class :character   1st Qu.: 514  \n",
       " Mode  :character   Mode  :character   Median : 872  \n",
       "                                       Mean   :1103  \n",
       "                                       3rd Qu.:1509  \n",
       "                                       Max.   :4999  \n",
       "                                                     "
      ]
     },
     "metadata": {},
     "output_type": "display_data"
    },
    {
     "data": {
      "text/html": [
       "<table class=\"dataframe\">\n",
       "<caption>A tibble: 6 × 21</caption>\n",
       "<thead>\n",
       "\t<tr><th scope=col>id</th><th scope=col>Age</th><th scope=col>Gender</th><th scope=col>Annual Income</th><th scope=col>Marital Status</th><th scope=col>Number of Dependents</th><th scope=col>Education Level</th><th scope=col>Occupation</th><th scope=col>Health Score</th><th scope=col>Location</th><th scope=col>⋯</th><th scope=col>Previous Claims</th><th scope=col>Vehicle Age</th><th scope=col>Credit Score</th><th scope=col>Insurance Duration</th><th scope=col>Policy Start Date</th><th scope=col>Customer Feedback</th><th scope=col>Smoking Status</th><th scope=col>Exercise Frequency</th><th scope=col>Property Type</th><th scope=col>Premium Amount</th></tr>\n",
       "\t<tr><th scope=col>&lt;dbl&gt;</th><th scope=col>&lt;dbl&gt;</th><th scope=col>&lt;chr&gt;</th><th scope=col>&lt;dbl&gt;</th><th scope=col>&lt;chr&gt;</th><th scope=col>&lt;dbl&gt;</th><th scope=col>&lt;chr&gt;</th><th scope=col>&lt;chr&gt;</th><th scope=col>&lt;dbl&gt;</th><th scope=col>&lt;chr&gt;</th><th scope=col>⋯</th><th scope=col>&lt;dbl&gt;</th><th scope=col>&lt;dbl&gt;</th><th scope=col>&lt;dbl&gt;</th><th scope=col>&lt;dbl&gt;</th><th scope=col>&lt;dttm&gt;</th><th scope=col>&lt;chr&gt;</th><th scope=col>&lt;chr&gt;</th><th scope=col>&lt;chr&gt;</th><th scope=col>&lt;chr&gt;</th><th scope=col>&lt;dbl&gt;</th></tr>\n",
       "</thead>\n",
       "<tbody>\n",
       "\t<tr><td>0</td><td>19</td><td>Female</td><td> 10049</td><td>Married </td><td>1</td><td>Bachelor's </td><td>Self-Employed</td><td>22.59876</td><td>Urban   </td><td>⋯</td><td>2</td><td>17</td><td>372</td><td>5</td><td>2023-12-23 15:21:39</td><td>Poor   </td><td>No </td><td>Weekly </td><td>House    </td><td>2869</td></tr>\n",
       "\t<tr><td>1</td><td>39</td><td>Female</td><td> 31678</td><td>Divorced</td><td>3</td><td>Master's   </td><td>NA           </td><td>15.56973</td><td>Rural   </td><td>⋯</td><td>1</td><td>12</td><td>694</td><td>2</td><td>2023-06-12 15:21:39</td><td>Average</td><td>Yes</td><td>Monthly</td><td>House    </td><td>1483</td></tr>\n",
       "\t<tr><td>2</td><td>23</td><td>Male  </td><td> 25602</td><td>Divorced</td><td>3</td><td>High School</td><td>Self-Employed</td><td>47.17755</td><td>Suburban</td><td>⋯</td><td>1</td><td>14</td><td> NA</td><td>3</td><td>2023-09-30 15:21:39</td><td>Good   </td><td>Yes</td><td>Weekly </td><td>House    </td><td> 567</td></tr>\n",
       "\t<tr><td>3</td><td>21</td><td>Male  </td><td>141855</td><td>Married </td><td>2</td><td>Bachelor's </td><td>NA           </td><td>10.93814</td><td>Rural   </td><td>⋯</td><td>1</td><td> 0</td><td>367</td><td>1</td><td>2024-06-12 15:21:39</td><td>Poor   </td><td>Yes</td><td>Daily  </td><td>Apartment</td><td> 765</td></tr>\n",
       "\t<tr><td>4</td><td>21</td><td>Male  </td><td> 39651</td><td>Single  </td><td>1</td><td>Bachelor's </td><td>Self-Employed</td><td>20.37609</td><td>Rural   </td><td>⋯</td><td>0</td><td> 8</td><td>598</td><td>4</td><td>2021-12-01 15:21:39</td><td>Poor   </td><td>Yes</td><td>Weekly </td><td>House    </td><td>2022</td></tr>\n",
       "\t<tr><td>5</td><td>29</td><td>Male  </td><td> 45963</td><td>Married </td><td>1</td><td>Bachelor's </td><td>NA           </td><td>33.05320</td><td>Urban   </td><td>⋯</td><td>2</td><td> 4</td><td>614</td><td>5</td><td>2022-05-20 15:21:39</td><td>Average</td><td>No </td><td>Weekly </td><td>House    </td><td>3202</td></tr>\n",
       "</tbody>\n",
       "</table>\n"
      ],
      "text/latex": [
       "A tibble: 6 × 21\n",
       "\\begin{tabular}{lllllllllllllllllllll}\n",
       " id & Age & Gender & Annual Income & Marital Status & Number of Dependents & Education Level & Occupation & Health Score & Location & ⋯ & Previous Claims & Vehicle Age & Credit Score & Insurance Duration & Policy Start Date & Customer Feedback & Smoking Status & Exercise Frequency & Property Type & Premium Amount\\\\\n",
       " <dbl> & <dbl> & <chr> & <dbl> & <chr> & <dbl> & <chr> & <chr> & <dbl> & <chr> & ⋯ & <dbl> & <dbl> & <dbl> & <dbl> & <dttm> & <chr> & <chr> & <chr> & <chr> & <dbl>\\\\\n",
       "\\hline\n",
       "\t 0 & 19 & Female &  10049 & Married  & 1 & Bachelor's  & Self-Employed & 22.59876 & Urban    & ⋯ & 2 & 17 & 372 & 5 & 2023-12-23 15:21:39 & Poor    & No  & Weekly  & House     & 2869\\\\\n",
       "\t 1 & 39 & Female &  31678 & Divorced & 3 & Master's    & NA            & 15.56973 & Rural    & ⋯ & 1 & 12 & 694 & 2 & 2023-06-12 15:21:39 & Average & Yes & Monthly & House     & 1483\\\\\n",
       "\t 2 & 23 & Male   &  25602 & Divorced & 3 & High School & Self-Employed & 47.17755 & Suburban & ⋯ & 1 & 14 &  NA & 3 & 2023-09-30 15:21:39 & Good    & Yes & Weekly  & House     &  567\\\\\n",
       "\t 3 & 21 & Male   & 141855 & Married  & 2 & Bachelor's  & NA            & 10.93814 & Rural    & ⋯ & 1 &  0 & 367 & 1 & 2024-06-12 15:21:39 & Poor    & Yes & Daily   & Apartment &  765\\\\\n",
       "\t 4 & 21 & Male   &  39651 & Single   & 1 & Bachelor's  & Self-Employed & 20.37609 & Rural    & ⋯ & 0 &  8 & 598 & 4 & 2021-12-01 15:21:39 & Poor    & Yes & Weekly  & House     & 2022\\\\\n",
       "\t 5 & 29 & Male   &  45963 & Married  & 1 & Bachelor's  & NA            & 33.05320 & Urban    & ⋯ & 2 &  4 & 614 & 5 & 2022-05-20 15:21:39 & Average & No  & Weekly  & House     & 3202\\\\\n",
       "\\end{tabular}\n"
      ],
      "text/markdown": [
       "\n",
       "A tibble: 6 × 21\n",
       "\n",
       "| id &lt;dbl&gt; | Age &lt;dbl&gt; | Gender &lt;chr&gt; | Annual Income &lt;dbl&gt; | Marital Status &lt;chr&gt; | Number of Dependents &lt;dbl&gt; | Education Level &lt;chr&gt; | Occupation &lt;chr&gt; | Health Score &lt;dbl&gt; | Location &lt;chr&gt; | ⋯ ⋯ | Previous Claims &lt;dbl&gt; | Vehicle Age &lt;dbl&gt; | Credit Score &lt;dbl&gt; | Insurance Duration &lt;dbl&gt; | Policy Start Date &lt;dttm&gt; | Customer Feedback &lt;chr&gt; | Smoking Status &lt;chr&gt; | Exercise Frequency &lt;chr&gt; | Property Type &lt;chr&gt; | Premium Amount &lt;dbl&gt; |\n",
       "|---|---|---|---|---|---|---|---|---|---|---|---|---|---|---|---|---|---|---|---|---|\n",
       "| 0 | 19 | Female |  10049 | Married  | 1 | Bachelor's  | Self-Employed | 22.59876 | Urban    | ⋯ | 2 | 17 | 372 | 5 | 2023-12-23 15:21:39 | Poor    | No  | Weekly  | House     | 2869 |\n",
       "| 1 | 39 | Female |  31678 | Divorced | 3 | Master's    | NA            | 15.56973 | Rural    | ⋯ | 1 | 12 | 694 | 2 | 2023-06-12 15:21:39 | Average | Yes | Monthly | House     | 1483 |\n",
       "| 2 | 23 | Male   |  25602 | Divorced | 3 | High School | Self-Employed | 47.17755 | Suburban | ⋯ | 1 | 14 |  NA | 3 | 2023-09-30 15:21:39 | Good    | Yes | Weekly  | House     |  567 |\n",
       "| 3 | 21 | Male   | 141855 | Married  | 2 | Bachelor's  | NA            | 10.93814 | Rural    | ⋯ | 1 |  0 | 367 | 1 | 2024-06-12 15:21:39 | Poor    | Yes | Daily   | Apartment |  765 |\n",
       "| 4 | 21 | Male   |  39651 | Single   | 1 | Bachelor's  | Self-Employed | 20.37609 | Rural    | ⋯ | 0 |  8 | 598 | 4 | 2021-12-01 15:21:39 | Poor    | Yes | Weekly  | House     | 2022 |\n",
       "| 5 | 29 | Male   |  45963 | Married  | 1 | Bachelor's  | NA            | 33.05320 | Urban    | ⋯ | 2 |  4 | 614 | 5 | 2022-05-20 15:21:39 | Average | No  | Weekly  | House     | 3202 |\n",
       "\n"
      ],
      "text/plain": [
       "  id Age Gender Annual Income Marital Status Number of Dependents\n",
       "1 0  19  Female  10049        Married        1                   \n",
       "2 1  39  Female  31678        Divorced       3                   \n",
       "3 2  23  Male    25602        Divorced       3                   \n",
       "4 3  21  Male   141855        Married        2                   \n",
       "5 4  21  Male    39651        Single         1                   \n",
       "6 5  29  Male    45963        Married        1                   \n",
       "  Education Level Occupation    Health Score Location ⋯ Previous Claims\n",
       "1 Bachelor's      Self-Employed 22.59876     Urban    ⋯ 2              \n",
       "2 Master's        NA            15.56973     Rural    ⋯ 1              \n",
       "3 High School     Self-Employed 47.17755     Suburban ⋯ 1              \n",
       "4 Bachelor's      NA            10.93814     Rural    ⋯ 1              \n",
       "5 Bachelor's      Self-Employed 20.37609     Rural    ⋯ 0              \n",
       "6 Bachelor's      NA            33.05320     Urban    ⋯ 2              \n",
       "  Vehicle Age Credit Score Insurance Duration Policy Start Date  \n",
       "1 17          372          5                  2023-12-23 15:21:39\n",
       "2 12          694          2                  2023-06-12 15:21:39\n",
       "3 14           NA          3                  2023-09-30 15:21:39\n",
       "4  0          367          1                  2024-06-12 15:21:39\n",
       "5  8          598          4                  2021-12-01 15:21:39\n",
       "6  4          614          5                  2022-05-20 15:21:39\n",
       "  Customer Feedback Smoking Status Exercise Frequency Property Type\n",
       "1 Poor              No             Weekly             House        \n",
       "2 Average           Yes            Monthly            House        \n",
       "3 Good              Yes            Weekly             House        \n",
       "4 Poor              Yes            Daily              Apartment    \n",
       "5 Poor              Yes            Weekly             House        \n",
       "6 Average           No             Weekly             House        \n",
       "  Premium Amount\n",
       "1 2869          \n",
       "2 1483          \n",
       "3  567          \n",
       "4  765          \n",
       "5 2022          \n",
       "6 3202          "
      ]
     },
     "metadata": {},
     "output_type": "display_data"
    }
   ],
   "source": [
    "# Inspect train set\n",
    "summary(train)\n",
    "\n",
    "# Print the first few rows \n",
    "head(train)"
   ]
  },
  {
   "cell_type": "code",
   "execution_count": 4,
   "id": "ba4849fa",
   "metadata": {
    "execution": {
     "iopub.execute_input": "2024-12-15T09:52:41.193987Z",
     "iopub.status.busy": "2024-12-15T09:52:41.192532Z",
     "iopub.status.idle": "2024-12-15T09:52:41.608354Z",
     "shell.execute_reply": "2024-12-15T09:52:41.606517Z"
    },
    "papermill": {
     "duration": 0.424322,
     "end_time": "2024-12-15T09:52:41.610896",
     "exception": false,
     "start_time": "2024-12-15T09:52:41.186574",
     "status": "completed"
    },
    "tags": []
   },
   "outputs": [
    {
     "data": {
      "text/plain": [
       "       id               Age           Gender          Annual Income   \n",
       " Min.   :1200000   Min.   :18.00   Length:800000      Min.   :     2  \n",
       " 1st Qu.:1400000   1st Qu.:30.00   Class :character   1st Qu.:  8048  \n",
       " Median :1600000   Median :41.00   Mode  :character   Median : 23981  \n",
       " Mean   :1600000   Mean   :41.14                      Mean   : 32804  \n",
       " 3rd Qu.:1799999   3rd Qu.:53.00                      3rd Qu.: 44660  \n",
       " Max.   :1999999   Max.   :64.00                      Max.   :149997  \n",
       "                   NA's   :12489                      NA's   :29860   \n",
       " Marital Status     Number of Dependents Education Level     Occupation       \n",
       " Length:800000      Min.   :0.00         Length:800000      Length:800000     \n",
       " Class :character   1st Qu.:1.00         Class :character   Class :character  \n",
       " Mode  :character   Median :2.00         Mode  :character   Mode  :character  \n",
       "                    Mean   :2.01                                              \n",
       "                    3rd Qu.:3.00                                              \n",
       "                    Max.   :4.00                                              \n",
       "                    NA's   :73130                                             \n",
       "  Health Score     Location         Policy Type        Previous Claims \n",
       " Min.   : 1.65   Length:800000      Length:800000      Min.   :0       \n",
       " 1st Qu.:15.92   Class :character   Class :character   1st Qu.:0       \n",
       " Median :24.58   Mode  :character   Mode  :character   Median :1       \n",
       " Mean   :25.61                                         Mean   :1       \n",
       " 3rd Qu.:34.52                                         3rd Qu.:2       \n",
       " Max.   :57.96                                         Max.   :9       \n",
       " NA's   :49449                                         NA's   :242802  \n",
       "  Vehicle Age      Credit Score   Insurance Duration\n",
       " Min.   : 0.000   Min.   :300.0   Min.   :1.000     \n",
       " 1st Qu.: 5.000   1st Qu.:468.0   1st Qu.:3.000     \n",
       " Median :10.000   Median :595.0   Median :5.000     \n",
       " Mean   : 9.572   Mean   :592.9   Mean   :5.019     \n",
       " 3rd Qu.:15.000   3rd Qu.:721.0   3rd Qu.:7.000     \n",
       " Max.   :19.000   Max.   :849.0   Max.   :9.000     \n",
       " NA's   :3        NA's   :91451   NA's   :2         \n",
       " Policy Start Date                Customer Feedback  Smoking Status    \n",
       " Min.   :2019-08-17 15:21:39.07   Length:800000      Length:800000     \n",
       " 1st Qu.:2020-11-20 15:21:39.13   Class :character   Class :character  \n",
       " Median :2022-02-13 15:21:39.25   Mode  :character   Mode  :character  \n",
       " Mean   :2022-02-13 06:20:29.63                                        \n",
       " 3rd Qu.:2023-05-07 15:21:39.08                                        \n",
       " Max.   :2024-08-15 15:21:39.28                                        \n",
       "                                                                       \n",
       " Exercise Frequency Property Type     \n",
       " Length:800000      Length:800000     \n",
       " Class :character   Class :character  \n",
       " Mode  :character   Mode  :character  \n",
       "                                      \n",
       "                                      \n",
       "                                      \n",
       "                                      "
      ]
     },
     "metadata": {},
     "output_type": "display_data"
    },
    {
     "data": {
      "text/html": [
       "<table class=\"dataframe\">\n",
       "<caption>A tibble: 6 × 20</caption>\n",
       "<thead>\n",
       "\t<tr><th scope=col>id</th><th scope=col>Age</th><th scope=col>Gender</th><th scope=col>Annual Income</th><th scope=col>Marital Status</th><th scope=col>Number of Dependents</th><th scope=col>Education Level</th><th scope=col>Occupation</th><th scope=col>Health Score</th><th scope=col>Location</th><th scope=col>Policy Type</th><th scope=col>Previous Claims</th><th scope=col>Vehicle Age</th><th scope=col>Credit Score</th><th scope=col>Insurance Duration</th><th scope=col>Policy Start Date</th><th scope=col>Customer Feedback</th><th scope=col>Smoking Status</th><th scope=col>Exercise Frequency</th><th scope=col>Property Type</th></tr>\n",
       "\t<tr><th scope=col>&lt;dbl&gt;</th><th scope=col>&lt;dbl&gt;</th><th scope=col>&lt;chr&gt;</th><th scope=col>&lt;dbl&gt;</th><th scope=col>&lt;chr&gt;</th><th scope=col>&lt;dbl&gt;</th><th scope=col>&lt;chr&gt;</th><th scope=col>&lt;chr&gt;</th><th scope=col>&lt;dbl&gt;</th><th scope=col>&lt;chr&gt;</th><th scope=col>&lt;chr&gt;</th><th scope=col>&lt;dbl&gt;</th><th scope=col>&lt;dbl&gt;</th><th scope=col>&lt;dbl&gt;</th><th scope=col>&lt;dbl&gt;</th><th scope=col>&lt;dttm&gt;</th><th scope=col>&lt;chr&gt;</th><th scope=col>&lt;chr&gt;</th><th scope=col>&lt;chr&gt;</th><th scope=col>&lt;chr&gt;</th></tr>\n",
       "</thead>\n",
       "<tbody>\n",
       "\t<tr><td>1200000</td><td>28</td><td>Female</td><td>  2310</td><td>NA      </td><td>4</td><td>Bachelor's </td><td>Self-Employed</td><td> 7.657981</td><td>Rural   </td><td>Basic        </td><td>NA</td><td>19</td><td> NA</td><td>1</td><td>2023-06-04 15:21:39</td><td>Poor   </td><td>Yes</td><td>Weekly </td><td>House    </td></tr>\n",
       "\t<tr><td>1200001</td><td>31</td><td>Female</td><td>126031</td><td>Married </td><td>2</td><td>Master's   </td><td>Self-Employed</td><td>13.381379</td><td>Suburban</td><td>Premium      </td><td>NA</td><td>14</td><td>372</td><td>8</td><td>2024-04-22 15:21:39</td><td>Good   </td><td>Yes</td><td>Rarely </td><td>Apartment</td></tr>\n",
       "\t<tr><td>1200002</td><td>47</td><td>Female</td><td> 17092</td><td>Divorced</td><td>0</td><td>PhD        </td><td>Unemployed   </td><td>24.354527</td><td>Urban   </td><td>Comprehensive</td><td>NA</td><td>16</td><td>819</td><td>9</td><td>2023-04-05 15:21:39</td><td>Average</td><td>Yes</td><td>Monthly</td><td>Condo    </td></tr>\n",
       "\t<tr><td>1200003</td><td>28</td><td>Female</td><td> 30424</td><td>Divorced</td><td>3</td><td>PhD        </td><td>Self-Employed</td><td> 5.136225</td><td>Suburban</td><td>Comprehensive</td><td> 1</td><td> 3</td><td>770</td><td>5</td><td>2023-10-25 15:21:39</td><td>Poor   </td><td>Yes</td><td>Daily  </td><td>House    </td></tr>\n",
       "\t<tr><td>1200004</td><td>24</td><td>Male  </td><td> 10863</td><td>Divorced</td><td>2</td><td>High School</td><td>Unemployed   </td><td>11.844155</td><td>Suburban</td><td>Premium      </td><td>NA</td><td>14</td><td>755</td><td>7</td><td>2021-11-26 15:21:39</td><td>Average</td><td>No </td><td>Weekly </td><td>House    </td></tr>\n",
       "\t<tr><td>1200005</td><td>43</td><td>Male  </td><td> 52370</td><td>Married </td><td>2</td><td>Bachelor's </td><td>NA           </td><td> 5.386224</td><td>Suburban</td><td>Basic        </td><td>NA</td><td>15</td><td>432</td><td>2</td><td>2022-07-08 15:21:39</td><td>NA     </td><td>No </td><td>Rarely </td><td>Condo    </td></tr>\n",
       "</tbody>\n",
       "</table>\n"
      ],
      "text/latex": [
       "A tibble: 6 × 20\n",
       "\\begin{tabular}{llllllllllllllllllll}\n",
       " id & Age & Gender & Annual Income & Marital Status & Number of Dependents & Education Level & Occupation & Health Score & Location & Policy Type & Previous Claims & Vehicle Age & Credit Score & Insurance Duration & Policy Start Date & Customer Feedback & Smoking Status & Exercise Frequency & Property Type\\\\\n",
       " <dbl> & <dbl> & <chr> & <dbl> & <chr> & <dbl> & <chr> & <chr> & <dbl> & <chr> & <chr> & <dbl> & <dbl> & <dbl> & <dbl> & <dttm> & <chr> & <chr> & <chr> & <chr>\\\\\n",
       "\\hline\n",
       "\t 1200000 & 28 & Female &   2310 & NA       & 4 & Bachelor's  & Self-Employed &  7.657981 & Rural    & Basic         & NA & 19 &  NA & 1 & 2023-06-04 15:21:39 & Poor    & Yes & Weekly  & House    \\\\\n",
       "\t 1200001 & 31 & Female & 126031 & Married  & 2 & Master's    & Self-Employed & 13.381379 & Suburban & Premium       & NA & 14 & 372 & 8 & 2024-04-22 15:21:39 & Good    & Yes & Rarely  & Apartment\\\\\n",
       "\t 1200002 & 47 & Female &  17092 & Divorced & 0 & PhD         & Unemployed    & 24.354527 & Urban    & Comprehensive & NA & 16 & 819 & 9 & 2023-04-05 15:21:39 & Average & Yes & Monthly & Condo    \\\\\n",
       "\t 1200003 & 28 & Female &  30424 & Divorced & 3 & PhD         & Self-Employed &  5.136225 & Suburban & Comprehensive &  1 &  3 & 770 & 5 & 2023-10-25 15:21:39 & Poor    & Yes & Daily   & House    \\\\\n",
       "\t 1200004 & 24 & Male   &  10863 & Divorced & 2 & High School & Unemployed    & 11.844155 & Suburban & Premium       & NA & 14 & 755 & 7 & 2021-11-26 15:21:39 & Average & No  & Weekly  & House    \\\\\n",
       "\t 1200005 & 43 & Male   &  52370 & Married  & 2 & Bachelor's  & NA            &  5.386224 & Suburban & Basic         & NA & 15 & 432 & 2 & 2022-07-08 15:21:39 & NA      & No  & Rarely  & Condo    \\\\\n",
       "\\end{tabular}\n"
      ],
      "text/markdown": [
       "\n",
       "A tibble: 6 × 20\n",
       "\n",
       "| id &lt;dbl&gt; | Age &lt;dbl&gt; | Gender &lt;chr&gt; | Annual Income &lt;dbl&gt; | Marital Status &lt;chr&gt; | Number of Dependents &lt;dbl&gt; | Education Level &lt;chr&gt; | Occupation &lt;chr&gt; | Health Score &lt;dbl&gt; | Location &lt;chr&gt; | Policy Type &lt;chr&gt; | Previous Claims &lt;dbl&gt; | Vehicle Age &lt;dbl&gt; | Credit Score &lt;dbl&gt; | Insurance Duration &lt;dbl&gt; | Policy Start Date &lt;dttm&gt; | Customer Feedback &lt;chr&gt; | Smoking Status &lt;chr&gt; | Exercise Frequency &lt;chr&gt; | Property Type &lt;chr&gt; |\n",
       "|---|---|---|---|---|---|---|---|---|---|---|---|---|---|---|---|---|---|---|---|\n",
       "| 1200000 | 28 | Female |   2310 | NA       | 4 | Bachelor's  | Self-Employed |  7.657981 | Rural    | Basic         | NA | 19 |  NA | 1 | 2023-06-04 15:21:39 | Poor    | Yes | Weekly  | House     |\n",
       "| 1200001 | 31 | Female | 126031 | Married  | 2 | Master's    | Self-Employed | 13.381379 | Suburban | Premium       | NA | 14 | 372 | 8 | 2024-04-22 15:21:39 | Good    | Yes | Rarely  | Apartment |\n",
       "| 1200002 | 47 | Female |  17092 | Divorced | 0 | PhD         | Unemployed    | 24.354527 | Urban    | Comprehensive | NA | 16 | 819 | 9 | 2023-04-05 15:21:39 | Average | Yes | Monthly | Condo     |\n",
       "| 1200003 | 28 | Female |  30424 | Divorced | 3 | PhD         | Self-Employed |  5.136225 | Suburban | Comprehensive |  1 |  3 | 770 | 5 | 2023-10-25 15:21:39 | Poor    | Yes | Daily   | House     |\n",
       "| 1200004 | 24 | Male   |  10863 | Divorced | 2 | High School | Unemployed    | 11.844155 | Suburban | Premium       | NA | 14 | 755 | 7 | 2021-11-26 15:21:39 | Average | No  | Weekly  | House     |\n",
       "| 1200005 | 43 | Male   |  52370 | Married  | 2 | Bachelor's  | NA            |  5.386224 | Suburban | Basic         | NA | 15 | 432 | 2 | 2022-07-08 15:21:39 | NA      | No  | Rarely  | Condo     |\n",
       "\n"
      ],
      "text/plain": [
       "  id      Age Gender Annual Income Marital Status Number of Dependents\n",
       "1 1200000 28  Female   2310        NA             4                   \n",
       "2 1200001 31  Female 126031        Married        2                   \n",
       "3 1200002 47  Female  17092        Divorced       0                   \n",
       "4 1200003 28  Female  30424        Divorced       3                   \n",
       "5 1200004 24  Male    10863        Divorced       2                   \n",
       "6 1200005 43  Male    52370        Married        2                   \n",
       "  Education Level Occupation    Health Score Location Policy Type  \n",
       "1 Bachelor's      Self-Employed  7.657981    Rural    Basic        \n",
       "2 Master's        Self-Employed 13.381379    Suburban Premium      \n",
       "3 PhD             Unemployed    24.354527    Urban    Comprehensive\n",
       "4 PhD             Self-Employed  5.136225    Suburban Comprehensive\n",
       "5 High School     Unemployed    11.844155    Suburban Premium      \n",
       "6 Bachelor's      NA             5.386224    Suburban Basic        \n",
       "  Previous Claims Vehicle Age Credit Score Insurance Duration\n",
       "1 NA              19           NA          1                 \n",
       "2 NA              14          372          8                 \n",
       "3 NA              16          819          9                 \n",
       "4  1               3          770          5                 \n",
       "5 NA              14          755          7                 \n",
       "6 NA              15          432          2                 \n",
       "  Policy Start Date   Customer Feedback Smoking Status Exercise Frequency\n",
       "1 2023-06-04 15:21:39 Poor              Yes            Weekly            \n",
       "2 2024-04-22 15:21:39 Good              Yes            Rarely            \n",
       "3 2023-04-05 15:21:39 Average           Yes            Monthly           \n",
       "4 2023-10-25 15:21:39 Poor              Yes            Daily             \n",
       "5 2021-11-26 15:21:39 Average           No             Weekly            \n",
       "6 2022-07-08 15:21:39 NA                No             Rarely            \n",
       "  Property Type\n",
       "1 House        \n",
       "2 Apartment    \n",
       "3 Condo        \n",
       "4 House        \n",
       "5 House        \n",
       "6 Condo        "
      ]
     },
     "metadata": {},
     "output_type": "display_data"
    }
   ],
   "source": [
    "# Inspect test set\n",
    "summary(test)\n",
    "\n",
    "# Print the first few rows\n",
    "head(test)"
   ]
  },
  {
   "cell_type": "code",
   "execution_count": 5,
   "id": "f51651ec",
   "metadata": {
    "execution": {
     "iopub.execute_input": "2024-12-15T09:52:41.623813Z",
     "iopub.status.busy": "2024-12-15T09:52:41.622197Z",
     "iopub.status.idle": "2024-12-15T09:55:48.133698Z",
     "shell.execute_reply": "2024-12-15T09:55:48.131899Z"
    },
    "papermill": {
     "duration": 186.52109,
     "end_time": "2024-12-15T09:55:48.136722",
     "exception": false,
     "start_time": "2024-12-15T09:52:41.615632",
     "status": "completed"
    },
    "tags": []
   },
   "outputs": [],
   "source": [
    "# Function to clean and transform dataframe\n",
    "clean_and_transform <- function(df) {\n",
    "  # Convert column names to snake_case\n",
    "  df <- clean_names(df)\n",
    "  \n",
    "  # Clean apostrophes and convert to snake_case\n",
    "  df$education_level <- gsub(\"'\", \"\", df$education_level)\n",
    "  df$education_level <- snakecase::to_snake_case(df$education_level)\n",
    "  df$occupation <- snakecase::to_snake_case(df$occupation)\n",
    "  \n",
    "  return(df)\n",
    "}\n",
    "\n",
    "# Apply transformations to train dataframe\n",
    "train <- clean_and_transform(train)\n",
    "\n",
    "# Apply transformations to test dataframe\n",
    "test <- clean_and_transform(test)\n"
   ]
  },
  {
   "cell_type": "code",
   "execution_count": 6,
   "id": "1305316f",
   "metadata": {
    "execution": {
     "iopub.execute_input": "2024-12-15T09:55:48.160764Z",
     "iopub.status.busy": "2024-12-15T09:55:48.159252Z",
     "iopub.status.idle": "2024-12-15T09:55:48.172182Z",
     "shell.execute_reply": "2024-12-15T09:55:48.170506Z"
    },
    "papermill": {
     "duration": 0.029129,
     "end_time": "2024-12-15T09:55:48.175290",
     "exception": false,
     "start_time": "2024-12-15T09:55:48.146161",
     "status": "completed"
    },
    "tags": []
   },
   "outputs": [],
   "source": [
    "# VIZ??"
   ]
  },
  {
   "cell_type": "code",
   "execution_count": 7,
   "id": "96c89ed8",
   "metadata": {
    "execution": {
     "iopub.execute_input": "2024-12-15T09:55:48.188226Z",
     "iopub.status.busy": "2024-12-15T09:55:48.186661Z",
     "iopub.status.idle": "2024-12-15T09:55:50.603204Z",
     "shell.execute_reply": "2024-12-15T09:55:50.601524Z"
    },
    "papermill": {
     "duration": 2.425736,
     "end_time": "2024-12-15T09:55:50.605627",
     "exception": false,
     "start_time": "2024-12-15T09:55:48.179891",
     "status": "completed"
    },
    "tags": []
   },
   "outputs": [
    {
     "data": {
      "text/html": [
       "<style>\n",
       ".dl-inline {width: auto; margin:0; padding: 0}\n",
       ".dl-inline>dt, .dl-inline>dd {float: none; width: auto; display: inline-block}\n",
       ".dl-inline>dt::after {content: \":\\0020\"; padding-right: .5ex}\n",
       ".dl-inline>dt:not(:first-of-type) {padding-left: .5ex}\n",
       "</style><dl class=dl-inline><dt>id</dt><dd>0</dd><dt>age</dt><dd>0</dd><dt>gender</dt><dd>0</dd><dt>annual_income</dt><dd>0</dd><dt>marital_status</dt><dd>0</dd><dt>number_of_dependents</dt><dd>0</dd><dt>education_level</dt><dd>0</dd><dt>occupation</dt><dd>0</dd><dt>health_score</dt><dd>0</dd><dt>location</dt><dd>0</dd><dt>policy_type</dt><dd>0</dd><dt>previous_claims</dt><dd>0</dd><dt>vehicle_age</dt><dd>0</dd><dt>credit_score</dt><dd>0</dd><dt>insurance_duration</dt><dd>0</dd><dt>policy_start_date</dt><dd>0</dd><dt>customer_feedback</dt><dd>0</dd><dt>smoking_status</dt><dd>0</dd><dt>exercise_frequency</dt><dd>0</dd><dt>property_type</dt><dd>0</dd><dt>premium_amount</dt><dd>0</dd></dl>\n"
      ],
      "text/latex": [
       "\\begin{description*}\n",
       "\\item[id] 0\n",
       "\\item[age] 0\n",
       "\\item[gender] 0\n",
       "\\item[annual\\textbackslash{}\\_income] 0\n",
       "\\item[marital\\textbackslash{}\\_status] 0\n",
       "\\item[number\\textbackslash{}\\_of\\textbackslash{}\\_dependents] 0\n",
       "\\item[education\\textbackslash{}\\_level] 0\n",
       "\\item[occupation] 0\n",
       "\\item[health\\textbackslash{}\\_score] 0\n",
       "\\item[location] 0\n",
       "\\item[policy\\textbackslash{}\\_type] 0\n",
       "\\item[previous\\textbackslash{}\\_claims] 0\n",
       "\\item[vehicle\\textbackslash{}\\_age] 0\n",
       "\\item[credit\\textbackslash{}\\_score] 0\n",
       "\\item[insurance\\textbackslash{}\\_duration] 0\n",
       "\\item[policy\\textbackslash{}\\_start\\textbackslash{}\\_date] 0\n",
       "\\item[customer\\textbackslash{}\\_feedback] 0\n",
       "\\item[smoking\\textbackslash{}\\_status] 0\n",
       "\\item[exercise\\textbackslash{}\\_frequency] 0\n",
       "\\item[property\\textbackslash{}\\_type] 0\n",
       "\\item[premium\\textbackslash{}\\_amount] 0\n",
       "\\end{description*}\n"
      ],
      "text/markdown": [
       "id\n",
       ":   0age\n",
       ":   0gender\n",
       ":   0annual_income\n",
       ":   0marital_status\n",
       ":   0number_of_dependents\n",
       ":   0education_level\n",
       ":   0occupation\n",
       ":   0health_score\n",
       ":   0location\n",
       ":   0policy_type\n",
       ":   0previous_claims\n",
       ":   0vehicle_age\n",
       ":   0credit_score\n",
       ":   0insurance_duration\n",
       ":   0policy_start_date\n",
       ":   0customer_feedback\n",
       ":   0smoking_status\n",
       ":   0exercise_frequency\n",
       ":   0property_type\n",
       ":   0premium_amount\n",
       ":   0\n",
       "\n"
      ],
      "text/plain": [
       "                  id                  age               gender \n",
       "                   0                    0                    0 \n",
       "       annual_income       marital_status number_of_dependents \n",
       "                   0                    0                    0 \n",
       "     education_level           occupation         health_score \n",
       "                   0                    0                    0 \n",
       "            location          policy_type      previous_claims \n",
       "                   0                    0                    0 \n",
       "         vehicle_age         credit_score   insurance_duration \n",
       "                   0                    0                    0 \n",
       "   policy_start_date    customer_feedback       smoking_status \n",
       "                   0                    0                    0 \n",
       "  exercise_frequency        property_type       premium_amount \n",
       "                   0                    0                    0 "
      ]
     },
     "metadata": {},
     "output_type": "display_data"
    },
    {
     "data": {
      "text/html": [
       "<style>\n",
       ".dl-inline {width: auto; margin:0; padding: 0}\n",
       ".dl-inline>dt, .dl-inline>dd {float: none; width: auto; display: inline-block}\n",
       ".dl-inline>dt::after {content: \":\\0020\"; padding-right: .5ex}\n",
       ".dl-inline>dt:not(:first-of-type) {padding-left: .5ex}\n",
       "</style><dl class=dl-inline><dt>id</dt><dd>0</dd><dt>age</dt><dd>0</dd><dt>gender</dt><dd>0</dd><dt>annual_income</dt><dd>0</dd><dt>marital_status</dt><dd>0</dd><dt>number_of_dependents</dt><dd>0</dd><dt>education_level</dt><dd>0</dd><dt>occupation</dt><dd>0</dd><dt>health_score</dt><dd>0</dd><dt>location</dt><dd>0</dd><dt>policy_type</dt><dd>0</dd><dt>previous_claims</dt><dd>0</dd><dt>vehicle_age</dt><dd>0</dd><dt>credit_score</dt><dd>0</dd><dt>insurance_duration</dt><dd>0</dd><dt>policy_start_date</dt><dd>0</dd><dt>customer_feedback</dt><dd>0</dd><dt>smoking_status</dt><dd>0</dd><dt>exercise_frequency</dt><dd>0</dd><dt>property_type</dt><dd>0</dd></dl>\n"
      ],
      "text/latex": [
       "\\begin{description*}\n",
       "\\item[id] 0\n",
       "\\item[age] 0\n",
       "\\item[gender] 0\n",
       "\\item[annual\\textbackslash{}\\_income] 0\n",
       "\\item[marital\\textbackslash{}\\_status] 0\n",
       "\\item[number\\textbackslash{}\\_of\\textbackslash{}\\_dependents] 0\n",
       "\\item[education\\textbackslash{}\\_level] 0\n",
       "\\item[occupation] 0\n",
       "\\item[health\\textbackslash{}\\_score] 0\n",
       "\\item[location] 0\n",
       "\\item[policy\\textbackslash{}\\_type] 0\n",
       "\\item[previous\\textbackslash{}\\_claims] 0\n",
       "\\item[vehicle\\textbackslash{}\\_age] 0\n",
       "\\item[credit\\textbackslash{}\\_score] 0\n",
       "\\item[insurance\\textbackslash{}\\_duration] 0\n",
       "\\item[policy\\textbackslash{}\\_start\\textbackslash{}\\_date] 0\n",
       "\\item[customer\\textbackslash{}\\_feedback] 0\n",
       "\\item[smoking\\textbackslash{}\\_status] 0\n",
       "\\item[exercise\\textbackslash{}\\_frequency] 0\n",
       "\\item[property\\textbackslash{}\\_type] 0\n",
       "\\end{description*}\n"
      ],
      "text/markdown": [
       "id\n",
       ":   0age\n",
       ":   0gender\n",
       ":   0annual_income\n",
       ":   0marital_status\n",
       ":   0number_of_dependents\n",
       ":   0education_level\n",
       ":   0occupation\n",
       ":   0health_score\n",
       ":   0location\n",
       ":   0policy_type\n",
       ":   0previous_claims\n",
       ":   0vehicle_age\n",
       ":   0credit_score\n",
       ":   0insurance_duration\n",
       ":   0policy_start_date\n",
       ":   0customer_feedback\n",
       ":   0smoking_status\n",
       ":   0exercise_frequency\n",
       ":   0property_type\n",
       ":   0\n",
       "\n"
      ],
      "text/plain": [
       "                  id                  age               gender \n",
       "                   0                    0                    0 \n",
       "       annual_income       marital_status number_of_dependents \n",
       "                   0                    0                    0 \n",
       "     education_level           occupation         health_score \n",
       "                   0                    0                    0 \n",
       "            location          policy_type      previous_claims \n",
       "                   0                    0                    0 \n",
       "         vehicle_age         credit_score   insurance_duration \n",
       "                   0                    0                    0 \n",
       "   policy_start_date    customer_feedback       smoking_status \n",
       "                   0                    0                    0 \n",
       "  exercise_frequency        property_type \n",
       "                   0                    0 "
      ]
     },
     "metadata": {},
     "output_type": "display_data"
    },
    {
     "data": {
      "text/html": [
       "<style>\n",
       ".dl-inline {width: auto; margin:0; padding: 0}\n",
       ".dl-inline>dt, .dl-inline>dd {float: none; width: auto; display: inline-block}\n",
       ".dl-inline>dt::after {content: \":\\0020\"; padding-right: .5ex}\n",
       ".dl-inline>dt:not(:first-of-type) {padding-left: .5ex}\n",
       "</style><dl class=dl-inline><dt>gender</dt><dd>TRUE</dd><dt>marital_status</dt><dd>TRUE</dd><dt>education_level</dt><dd>TRUE</dd><dt>occupation</dt><dd>TRUE</dd><dt>location</dt><dd>TRUE</dd><dt>policy_type</dt><dd>TRUE</dd><dt>customer_feedback</dt><dd>TRUE</dd><dt>smoking_status</dt><dd>TRUE</dd><dt>exercise_frequency</dt><dd>TRUE</dd><dt>property_type</dt><dd>TRUE</dd></dl>\n"
      ],
      "text/latex": [
       "\\begin{description*}\n",
       "\\item[gender] TRUE\n",
       "\\item[marital\\textbackslash{}\\_status] TRUE\n",
       "\\item[education\\textbackslash{}\\_level] TRUE\n",
       "\\item[occupation] TRUE\n",
       "\\item[location] TRUE\n",
       "\\item[policy\\textbackslash{}\\_type] TRUE\n",
       "\\item[customer\\textbackslash{}\\_feedback] TRUE\n",
       "\\item[smoking\\textbackslash{}\\_status] TRUE\n",
       "\\item[exercise\\textbackslash{}\\_frequency] TRUE\n",
       "\\item[property\\textbackslash{}\\_type] TRUE\n",
       "\\end{description*}\n"
      ],
      "text/markdown": [
       "gender\n",
       ":   TRUEmarital_status\n",
       ":   TRUEeducation_level\n",
       ":   TRUEoccupation\n",
       ":   TRUElocation\n",
       ":   TRUEpolicy_type\n",
       ":   TRUEcustomer_feedback\n",
       ":   TRUEsmoking_status\n",
       ":   TRUEexercise_frequency\n",
       ":   TRUEproperty_type\n",
       ":   TRUE\n",
       "\n"
      ],
      "text/plain": [
       "            gender     marital_status    education_level         occupation \n",
       "              TRUE               TRUE               TRUE               TRUE \n",
       "          location        policy_type  customer_feedback     smoking_status \n",
       "              TRUE               TRUE               TRUE               TRUE \n",
       "exercise_frequency      property_type \n",
       "              TRUE               TRUE "
      ]
     },
     "metadata": {},
     "output_type": "display_data"
    },
    {
     "data": {
      "text/html": [
       "<style>\n",
       ".dl-inline {width: auto; margin:0; padding: 0}\n",
       ".dl-inline>dt, .dl-inline>dd {float: none; width: auto; display: inline-block}\n",
       ".dl-inline>dt::after {content: \":\\0020\"; padding-right: .5ex}\n",
       ".dl-inline>dt:not(:first-of-type) {padding-left: .5ex}\n",
       "</style><dl class=dl-inline><dt>gender</dt><dd>TRUE</dd><dt>marital_status</dt><dd>TRUE</dd><dt>education_level</dt><dd>TRUE</dd><dt>occupation</dt><dd>TRUE</dd><dt>location</dt><dd>TRUE</dd><dt>policy_type</dt><dd>TRUE</dd><dt>customer_feedback</dt><dd>TRUE</dd><dt>smoking_status</dt><dd>TRUE</dd><dt>exercise_frequency</dt><dd>TRUE</dd><dt>property_type</dt><dd>TRUE</dd></dl>\n"
      ],
      "text/latex": [
       "\\begin{description*}\n",
       "\\item[gender] TRUE\n",
       "\\item[marital\\textbackslash{}\\_status] TRUE\n",
       "\\item[education\\textbackslash{}\\_level] TRUE\n",
       "\\item[occupation] TRUE\n",
       "\\item[location] TRUE\n",
       "\\item[policy\\textbackslash{}\\_type] TRUE\n",
       "\\item[customer\\textbackslash{}\\_feedback] TRUE\n",
       "\\item[smoking\\textbackslash{}\\_status] TRUE\n",
       "\\item[exercise\\textbackslash{}\\_frequency] TRUE\n",
       "\\item[property\\textbackslash{}\\_type] TRUE\n",
       "\\end{description*}\n"
      ],
      "text/markdown": [
       "gender\n",
       ":   TRUEmarital_status\n",
       ":   TRUEeducation_level\n",
       ":   TRUEoccupation\n",
       ":   TRUElocation\n",
       ":   TRUEpolicy_type\n",
       ":   TRUEcustomer_feedback\n",
       ":   TRUEsmoking_status\n",
       ":   TRUEexercise_frequency\n",
       ":   TRUEproperty_type\n",
       ":   TRUE\n",
       "\n"
      ],
      "text/plain": [
       "            gender     marital_status    education_level         occupation \n",
       "              TRUE               TRUE               TRUE               TRUE \n",
       "          location        policy_type  customer_feedback     smoking_status \n",
       "              TRUE               TRUE               TRUE               TRUE \n",
       "exercise_frequency      property_type \n",
       "              TRUE               TRUE "
      ]
     },
     "metadata": {},
     "output_type": "display_data"
    }
   ],
   "source": [
    "# List of numerical and categorical columns\n",
    "numerical_cols <- c(\"age\", \"annual_income\", \"health_score\", \"vehicle_age\", \n",
    "                    \"credit_score\", \"insurance_duration\", \"number_of_dependents\", \"previous_claims\")\n",
    "categorical_cols <- c(\"gender\", \"marital_status\", \"education_level\", \"occupation\", \n",
    "                      \"location\", \"policy_type\", \"customer_feedback\", \"smoking_status\", \n",
    "                      \"exercise_frequency\", \"property_type\")\n",
    "\n",
    "# Impute numerical columns with mean\n",
    "for (col in numerical_cols) {\n",
    "  mean_value <- mean(train[[col]], na.rm = TRUE)\n",
    "  train[[col]][is.na(train[[col]])] <- mean_value\n",
    "  test[[col]][is.na(test[[col]])] <- mean_value\n",
    "}\n",
    "\n",
    "# Replace missing values in categorical columns with 'unknown' and convert to factors\n",
    "for (col in categorical_cols) {\n",
    "  train[[col]][is.na(train[[col]])] <- \"unknown\"\n",
    "  test[[col]][is.na(test[[col]])] <- \"unknown\"\n",
    "  \n",
    "  # Convert to factor\n",
    "  train[[col]] <- factor(train[[col]])\n",
    "  test[[col]] <- factor(test[[col]])\n",
    "}\n",
    "\n",
    "# Impute datetime column with the median date\n",
    "median_date <- median(as.POSIXct(train$policy_start_date, format = \"%Y-%m-%d %H:%M:%S\"), na.rm = TRUE)\n",
    "train$policy_start_date[is.na(train$policy_start_date)] <- as.character(median_date)\n",
    "test$policy_start_date[is.na(test$policy_start_date)] <- as.character(median_date)\n",
    "\n",
    "# Verify no missing values remain\n",
    "colSums(is.na(train))\n",
    "colSums(is.na(test))\n",
    "\n",
    "# Verify that categorical columns are now factors\n",
    "sapply(train[categorical_cols], is.factor)\n",
    "sapply(test[categorical_cols], is.factor)\n"
   ]
  },
  {
   "cell_type": "code",
   "execution_count": 8,
   "id": "c512ca5c",
   "metadata": {
    "execution": {
     "iopub.execute_input": "2024-12-15T09:55:50.620407Z",
     "iopub.status.busy": "2024-12-15T09:55:50.618780Z",
     "iopub.status.idle": "2024-12-15T09:55:51.071828Z",
     "shell.execute_reply": "2024-12-15T09:55:51.069884Z"
    },
    "papermill": {
     "duration": 0.46301,
     "end_time": "2024-12-15T09:55:51.074266",
     "exception": false,
     "start_time": "2024-12-15T09:55:50.611256",
     "status": "completed"
    },
    "tags": []
   },
   "outputs": [
    {
     "name": "stderr",
     "output_type": "stream",
     "text": [
      "Warning message:\n",
      "“Unknown or uninitialised column: `premium_amount`.”\n"
     ]
    },
    {
     "data": {
      "text/plain": [
       "   Min. 1st Qu.  Median    Mean 3rd Qu.    Max. \n",
       "  2.996   6.242   6.771   6.591   7.319   8.517 "
      ]
     },
     "metadata": {},
     "output_type": "display_data"
    },
    {
     "data": {
      "image/png": "[encoded data removed]"
     },
     "metadata": {
      "image/png": {
       "height": 420,
       "width": 420
      }
     },
     "output_type": "display_data"
    }
   ],
   "source": [
    "# Check for non-positive values\n",
    "if (any(train$premium_amount <= 0, na.rm = TRUE) || any(test$premium_amount <= 0, na.rm = TRUE)) {\n",
    "  # Add a small constant if there are zeros or negative values\n",
    "  train$premium_amount <- log(train$premium_amount + 1)\n",
    "} else {\n",
    "  # If all values are positive, use simple log transformation\n",
    "  train$premium_amount <- log(train$premium_amount)\n",
    "}\n",
    "\n",
    "# Verify the transformation\n",
    "summary(train$premium_amount)\n",
    "\n",
    "# Optionally, plot the distribution of the transformed variable\n",
    "hist(train$premium_amount, main = \"Distribution of Log-Transformed Premium Amount\", xlab = \"Log(Premium Amount)\")\n"
   ]
  },
  {
   "cell_type": "code",
   "execution_count": 9,
   "id": "c0f3a37c",
   "metadata": {
    "execution": {
     "iopub.execute_input": "2024-12-15T09:55:51.090895Z",
     "iopub.status.busy": "2024-12-15T09:55:51.089344Z",
     "iopub.status.idle": "2024-12-15T09:55:51.101997Z",
     "shell.execute_reply": "2024-12-15T09:55:51.100245Z"
    },
    "papermill": {
     "duration": 0.023512,
     "end_time": "2024-12-15T09:55:51.104364",
     "exception": false,
     "start_time": "2024-12-15T09:55:51.080852",
     "status": "completed"
    },
    "tags": []
   },
   "outputs": [],
   "source": [
    "\n",
    "# FIX THE MODEL"
   ]
  },
  {
   "cell_type": "markdown",
   "id": "2182c9cd",
   "metadata": {
    "papermill": {
     "duration": 0.006305,
     "end_time": "2024-12-15T09:55:51.116842",
     "exception": false,
     "start_time": "2024-12-15T09:55:51.110537",
     "status": "completed"
    },
    "tags": []
   },
   "source": [
    "# Modeling"
   ]
  },
  {
   "cell_type": "code",
   "execution_count": 10,
   "id": "d40c88b6",
   "metadata": {
    "execution": {
     "iopub.execute_input": "2024-12-15T09:55:51.132936Z",
     "iopub.status.busy": "2024-12-15T09:55:51.131259Z",
     "iopub.status.idle": "2024-12-15T09:55:52.328926Z",
     "shell.execute_reply": "2024-12-15T09:55:52.327176Z"
    },
    "papermill": {
     "duration": 1.208186,
     "end_time": "2024-12-15T09:55:52.331327",
     "exception": false,
     "start_time": "2024-12-15T09:55:51.123141",
     "status": "completed"
    },
    "tags": []
   },
   "outputs": [],
   "source": [
    "# Set seed for reproducibility\n",
    "set.seed(123)\n",
    "\n",
    "# Splitting the data\n",
    "train_index <- createDataPartition(train$premium_amount, p = 0.8, list = FALSE)\n",
    "train_set <- train[train_index, ]\n",
    "test_set <- train[-train_index, ]\n",
    "\n",
    "# Split features and target variable for train set\n",
    "X_train <- train_set[, !(names(train_set) %in% c(\"id\", \"premium_amount\"))]\n",
    "y_train <- train_set$premium_amount\n",
    "\n",
    "# Split features and target variable for test set\n",
    "X_test <- test_set[, !(names(test_set) %in% c(\"id\", \"premium_amount\"))]\n",
    "y_test <- test_set$premium_amount"
   ]
  },
  {
   "cell_type": "code",
   "execution_count": 11,
   "id": "dd61cb96",
   "metadata": {
    "execution": {
     "iopub.execute_input": "2024-12-15T09:55:52.347764Z",
     "iopub.status.busy": "2024-12-15T09:55:52.346163Z",
     "iopub.status.idle": "2024-12-15T09:56:15.797261Z",
     "shell.execute_reply": "2024-12-15T09:56:15.794901Z"
    },
    "papermill": {
     "duration": 23.462587,
     "end_time": "2024-12-15T09:56:15.800185",
     "exception": false,
     "start_time": "2024-12-15T09:55:52.337598",
     "status": "completed"
    },
    "tags": []
   },
   "outputs": [
    {
     "name": "stderr",
     "output_type": "stream",
     "text": [
      "Warning message in storage.mode(data) <- \"double\":\n",
      "“NAs introduced by coercion”\n"
     ]
    },
    {
     "name": "stdout",
     "output_type": "stream",
     "text": [
      "Target variable (premium_amount) range: 2.995732 to 8.516993 \n"
     ]
    },
    {
     "name": "stdout",
     "output_type": "stream",
     "text": [
      "LightGBM RMSE: 1.10203 \n"
     ]
    },
    {
     "name": "stdout",
     "output_type": "stream",
     "text": [
      "Percentage RMSE: 16.72 %\n"
     ]
    }
   ],
   "source": [
    "# Prepare data\n",
    "train_matrix <- as.matrix(train_set %>% select(-premium_amount))\n",
    "train_label <- train_set$premium_amount\n",
    "test_matrix <- as.matrix(test_set %>% select(-premium_amount))\n",
    "\n",
    "# Create LightGBM dataset\n",
    "lgb_train <- lgb.Dataset(data = train_matrix, label = train_label)\n",
    "\n",
    "# Train the model\n",
    "lgb_model <- lgb.train(\n",
    "  params = list(objective = \"regression\", metric = \"rmse\", boosting_type = \"gbdt\"),\n",
    "  data = lgb_train,\n",
    "  nrounds = 100,\n",
    "  learning_rate = 0.1,\n",
    "  num_leaves = 31\n",
    ")\n",
    "\n",
    "# Predict and evaluate\n",
    "pred_lgb <- predict(lgb_model, test_matrix)\n",
    "lgb_rmse <- sqrt(mean((pred_lgb - test_set$premium_amount)^2))\n",
    "\n",
    "# Calculate and print target variable range\n",
    "target_range <- range(test_set$premium_amount, na.rm = TRUE)\n",
    "cat(\"Target variable (premium_amount) range:\", target_range[1], \"to\", target_range[2], \"\\n\")\n",
    "cat(\"LightGBM RMSE:\", lgb_rmse, \"\\n\")\n",
    "\n",
    "# Calculate and print percentage RMSE\n",
    "percentage_rmse <- (lgb_rmse / mean(test_set$premium_amount)) * 100\n",
    "cat(\"Percentage RMSE:\", round(percentage_rmse, 2), \"%\\n\")"
   ]
  },
  {
   "cell_type": "code",
   "execution_count": 12,
   "id": "a9b365c1",
   "metadata": {
    "execution": {
     "iopub.execute_input": "2024-12-15T09:56:15.818335Z",
     "iopub.status.busy": "2024-12-15T09:56:15.816455Z",
     "iopub.status.idle": "2024-12-15T09:56:17.411005Z",
     "shell.execute_reply": "2024-12-15T09:56:17.409246Z"
    },
    "papermill": {
     "duration": 1.606023,
     "end_time": "2024-12-15T09:56:17.413471",
     "exception": false,
     "start_time": "2024-12-15T09:56:15.807448",
     "status": "completed"
    },
    "tags": []
   },
   "outputs": [
    {
     "data": {
      "image/png": "[encoded data removed]"
     },
     "metadata": {
      "image/png": {
       "height": 420,
       "width": 420
      }
     },
     "output_type": "display_data"
    }
   ],
   "source": [
    "lgb.importance(lgb_model) %>%\n",
    "  lgb.plot.importance()"
   ]
  }
 ],
 "metadata": {
  "kaggle": {
   "accelerator": "none",
   "dataSources": [
    {
     "databundleVersionId": 10305135,
     "sourceId": 84896,
     "sourceType": "competition"
    }
   ],
   "dockerImageVersionId": 30749,
   "isGpuEnabled": false,
   "isInternetEnabled": true,
   "language": "r",
   "sourceType": "notebook"
  },
  "kernelspec": {
   "display_name": "R",
   "language": "R",
   "name": "ir"
  },
  "language_info": {
   "codemirror_mode": "r",
   "file_extension": ".r",
   "mimetype": "text/x-r-source",
   "name": "R",
   "pygments_lexer": "r",
   "version": "4.4.0"
  },
  "papermill": {
   "default_parameters": {},
   "duration": 233.273123,
   "end_time": "2024-12-15T09:56:17.644245",
   "environment_variables": {},
   "exception": null,
   "input_path": "__notebook__.ipynb",
   "output_path": "__notebook__.ipynb",
   "parameters": {},
   "start_time": "2024-12-15T09:52:24.371122",
   "version": "2.6.0"
  }
 },
 "nbformat": 4,
 "nbformat_minor": 5
}

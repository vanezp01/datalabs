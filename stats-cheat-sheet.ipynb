{
 "cells": [
  {
   "cell_type": "markdown",
   "id": "71b41011",
   "metadata": {
    "papermill": {
     "duration": 0.004495,
     "end_time": "2024-09-24T10:13:00.438646",
     "exception": false,
     "start_time": "2024-09-24T10:13:00.434151",
     "status": "completed"
    },
    "tags": []
   },
   "source": [
    "# 1. Descriptive Statistics\n",
    "**Descriptive statistics summarize the main features of a dataset. Common measures include mean, median, mode, variance, standard deviation, and range.**"
   ]
  },
  {
   "cell_type": "code",
   "execution_count": 1,
   "id": "c299cdd8",
   "metadata": {
    "execution": {
     "iopub.execute_input": "2024-09-24T10:13:00.448212Z",
     "iopub.status.busy": "2024-09-24T10:13:00.447450Z",
     "iopub.status.idle": "2024-09-24T10:13:01.262016Z",
     "shell.execute_reply": "2024-09-24T10:13:01.261027Z"
    },
    "papermill": {
     "duration": 0.822022,
     "end_time": "2024-09-24T10:13:01.264567",
     "exception": false,
     "start_time": "2024-09-24T10:13:00.442545",
     "status": "completed"
    },
    "tags": []
   },
   "outputs": [],
   "source": [
    "import pandas as pd\n",
    "import numpy as np\n",
    "\n",
    "# Example dataframe\n",
    "df = pd.DataFrame({\n",
    "    'age': [23, 25, 31, 35, 28],\n",
    "    'salary': [50000, 62000, 75000, 80000, 60000]\n",
    "})\n",
    "\n",
    "# Descriptive Statistics\n",
    "mean = df['salary'].mean()  # Mean\n",
    "median = df['salary'].median()  # Median\n",
    "mode = df['salary'].mode()  # Mode\n",
    "std = df['salary'].std()  # Standard Deviation\n",
    "var = df['salary'].var()  # Variance\n",
    "min_value = df['salary'].min()  # Minimum\n",
    "max_value = df['salary'].max()  # Maximum\n",
    "range_value = max_value - min_value  # Range\n",
    "\n",
    "# Summary statistics\n",
    "summary = df.describe()\n",
    "\n",
    "# Correlation and Covariance\n",
    "corr = df.corr()  # Correlation matrix\n",
    "cov = df.cov()  # Covariance matrix\n"
   ]
  },
  {
   "cell_type": "markdown",
   "id": "ebc9eb39",
   "metadata": {
    "papermill": {
     "duration": 0.003521,
     "end_time": "2024-09-24T10:13:01.272168",
     "exception": false,
     "start_time": "2024-09-24T10:13:01.268647",
     "status": "completed"
    },
    "tags": []
   },
   "source": [
    "# 2. Probability Distributions\n",
    "**Probability distributions describe how the values of a variable are distributed. Common distributions include normal (Gaussian), binomial, and Poisson.**"
   ]
  },
  {
   "cell_type": "code",
   "execution_count": 2,
   "id": "f629a147",
   "metadata": {
    "execution": {
     "iopub.execute_input": "2024-09-24T10:13:01.281950Z",
     "iopub.status.busy": "2024-09-24T10:13:01.280831Z",
     "iopub.status.idle": "2024-09-24T10:13:02.271390Z",
     "shell.execute_reply": "2024-09-24T10:13:02.270339Z"
    },
    "papermill": {
     "duration": 0.998014,
     "end_time": "2024-09-24T10:13:02.273895",
     "exception": false,
     "start_time": "2024-09-24T10:13:01.275881",
     "status": "completed"
    },
    "tags": []
   },
   "outputs": [],
   "source": [
    "from scipy.stats import norm, binom, poisson\n",
    "\n",
    "# Normal Distribution\n",
    "mu, sigma = 0, 1  # mean and standard deviation\n",
    "normal_dist = norm.rvs(size=1000, loc=mu, scale=sigma)\n",
    "\n",
    "# Binomial Distribution\n",
    "n, p = 10, 0.5  # number of trials, probability of success\n",
    "binomial_dist = binom.rvs(n, p, size=1000)\n",
    "\n",
    "# Poisson Distribution\n",
    "lambda_ = 3  # rate (lambda) for Poisson\n",
    "poisson_dist = poisson.rvs(mu=lambda_, size=1000)\n",
    "\n",
    "# Probability Density Function (PDF) for Normal\n",
    "pdf_value = norm.pdf(0, loc=mu, scale=sigma)\n",
    "\n",
    "# Cumulative Distribution Function (CDF)\n",
    "cdf_value = norm.cdf(0, loc=mu, scale=sigma)\n"
   ]
  },
  {
   "cell_type": "markdown",
   "id": "8c5e85f9",
   "metadata": {
    "papermill": {
     "duration": 0.003464,
     "end_time": "2024-09-24T10:13:02.281169",
     "exception": false,
     "start_time": "2024-09-24T10:13:02.277705",
     "status": "completed"
    },
    "tags": []
   },
   "source": [
    "# 3. Confidence Intervals\n",
    "**Confidence intervals give a range in which the true population parameter is likely to lie with a given level of confidence (e.g., 95%).**"
   ]
  },
  {
   "cell_type": "code",
   "execution_count": 3,
   "id": "15421451",
   "metadata": {
    "execution": {
     "iopub.execute_input": "2024-09-24T10:13:02.290139Z",
     "iopub.status.busy": "2024-09-24T10:13:02.289618Z",
     "iopub.status.idle": "2024-09-24T10:13:02.297854Z",
     "shell.execute_reply": "2024-09-24T10:13:02.296750Z"
    },
    "papermill": {
     "duration": 0.015338,
     "end_time": "2024-09-24T10:13:02.300057",
     "exception": false,
     "start_time": "2024-09-24T10:13:02.284719",
     "status": "completed"
    },
    "tags": []
   },
   "outputs": [],
   "source": [
    "import numpy as np\n",
    "import scipy.stats as stats\n",
    "\n",
    "# Sample data\n",
    "data = np.array([23, 25, 31, 35, 28])\n",
    "confidence = 0.95\n",
    "\n",
    "# Mean and standard error of the mean\n",
    "mean = np.mean(data)\n",
    "sem = stats.sem(data)\n",
    "\n",
    "# Confidence interval\n",
    "confidence_interval = stats.t.interval(confidence, len(data)-1, loc=mean, scale=sem)\n"
   ]
  },
  {
   "cell_type": "markdown",
   "id": "d53bb6b5",
   "metadata": {
    "papermill": {
     "duration": 0.003509,
     "end_time": "2024-09-24T10:13:02.307445",
     "exception": false,
     "start_time": "2024-09-24T10:13:02.303936",
     "status": "completed"
    },
    "tags": []
   },
   "source": [
    "# 4. Hypothesis Testing and T-Tests\n",
    "**Hypothesis testing helps in determining whether a sample data supports a given hypothesis. The T-test checks whether the means of two groups are statistically different.**\n",
    "\n",
    "* **One-sample T-test: Tests if the sample mean is equal to a population mean.**"
   ]
  },
  {
   "cell_type": "code",
   "execution_count": 4,
   "id": "0bd02770",
   "metadata": {
    "execution": {
     "iopub.execute_input": "2024-09-24T10:13:02.317006Z",
     "iopub.status.busy": "2024-09-24T10:13:02.316061Z",
     "iopub.status.idle": "2024-09-24T10:13:02.324303Z",
     "shell.execute_reply": "2024-09-24T10:13:02.323445Z"
    },
    "papermill": {
     "duration": 0.015124,
     "end_time": "2024-09-24T10:13:02.326369",
     "exception": false,
     "start_time": "2024-09-24T10:13:02.311245",
     "status": "completed"
    },
    "tags": []
   },
   "outputs": [],
   "source": [
    "# One-sample t-test\n",
    "t_stat, p_value = stats.ttest_1samp(data, popmean=30)  # Test if mean of data = 30"
   ]
  },
  {
   "cell_type": "markdown",
   "id": "2fc51979",
   "metadata": {
    "papermill": {
     "duration": 0.003343,
     "end_time": "2024-09-24T10:13:02.333443",
     "exception": false,
     "start_time": "2024-09-24T10:13:02.330100",
     "status": "completed"
    },
    "tags": []
   },
   "source": [
    "* **Two-sample T-test: Tests if the means of two independent groups are different.**"
   ]
  },
  {
   "cell_type": "code",
   "execution_count": 5,
   "id": "522d8fca",
   "metadata": {
    "execution": {
     "iopub.execute_input": "2024-09-24T10:13:02.342151Z",
     "iopub.status.busy": "2024-09-24T10:13:02.341806Z",
     "iopub.status.idle": "2024-09-24T10:13:02.349957Z",
     "shell.execute_reply": "2024-09-24T10:13:02.348988Z"
    },
    "papermill": {
     "duration": 0.014893,
     "end_time": "2024-09-24T10:13:02.351930",
     "exception": false,
     "start_time": "2024-09-24T10:13:02.337037",
     "status": "completed"
    },
    "tags": []
   },
   "outputs": [],
   "source": [
    "# Two-sample t-test\n",
    "group1 = [23, 25, 31, 35, 28]\n",
    "group2 = [22, 29, 32, 30, 27]\n",
    "t_stat, p_value = stats.ttest_ind(group1, group2)\n"
   ]
  },
  {
   "cell_type": "markdown",
   "id": "2f3bbe5e",
   "metadata": {
    "papermill": {
     "duration": 0.003402,
     "end_time": "2024-09-24T10:13:02.359051",
     "exception": false,
     "start_time": "2024-09-24T10:13:02.355649",
     "status": "completed"
    },
    "tags": []
   },
   "source": [
    "* **Paired T-test: Tests if the means of two related groups are different.**"
   ]
  },
  {
   "cell_type": "code",
   "execution_count": 6,
   "id": "01ed197e",
   "metadata": {
    "execution": {
     "iopub.execute_input": "2024-09-24T10:13:02.367772Z",
     "iopub.status.busy": "2024-09-24T10:13:02.367312Z",
     "iopub.status.idle": "2024-09-24T10:13:02.374794Z",
     "shell.execute_reply": "2024-09-24T10:13:02.373849Z"
    },
    "papermill": {
     "duration": 0.014239,
     "end_time": "2024-09-24T10:13:02.376860",
     "exception": false,
     "start_time": "2024-09-24T10:13:02.362621",
     "status": "completed"
    },
    "tags": []
   },
   "outputs": [],
   "source": [
    "# Paired t-test\n",
    "before = [80, 75, 85, 90, 70]\n",
    "after = [82, 78, 85, 95, 72]\n",
    "t_stat, p_value = stats.ttest_rel(before, after)\n"
   ]
  },
  {
   "cell_type": "markdown",
   "id": "dfad4dbc",
   "metadata": {
    "papermill": {
     "duration": 0.003453,
     "end_time": "2024-09-24T10:13:02.385026",
     "exception": false,
     "start_time": "2024-09-24T10:13:02.381573",
     "status": "completed"
    },
    "tags": []
   },
   "source": [
    "# 5. Chi-Squared Test\n",
    "**The Chi-Squared test assesses the association between categorical variables in a contingency table (observed vs. expected frequencies).**\n",
    "\n",
    "**Hypotheses:**\n",
    "\n",
    "***Null Hypothesis (H₀): The two categorical variables are independent (i.e., no association).***\n",
    "\n",
    "***Alternative Hypothesis (H₁): The two categorical variables are dependent (i.e., there is an association).***"
   ]
  },
  {
   "cell_type": "code",
   "execution_count": 7,
   "id": "562d2777",
   "metadata": {
    "execution": {
     "iopub.execute_input": "2024-09-24T10:13:02.393787Z",
     "iopub.status.busy": "2024-09-24T10:13:02.393312Z",
     "iopub.status.idle": "2024-09-24T10:13:02.400490Z",
     "shell.execute_reply": "2024-09-24T10:13:02.399575Z"
    },
    "papermill": {
     "duration": 0.014025,
     "end_time": "2024-09-24T10:13:02.402667",
     "exception": false,
     "start_time": "2024-09-24T10:13:02.388642",
     "status": "completed"
    },
    "tags": []
   },
   "outputs": [],
   "source": [
    "from scipy.stats import chi2_contingency\n",
    "\n",
    "# Contingency table (observed frequencies)\n",
    "observed = [[10, 20, 30], [6, 9, 17]]\n",
    "\n",
    "# Chi-Squared test\n",
    "chi2, p_value, dof, expected = chi2_contingency(observed)\n"
   ]
  },
  {
   "cell_type": "markdown",
   "id": "55a7bc36",
   "metadata": {
    "papermill": {
     "duration": 0.003704,
     "end_time": "2024-09-24T10:13:02.410197",
     "exception": false,
     "start_time": "2024-09-24T10:13:02.406493",
     "status": "completed"
    },
    "tags": []
   },
   "source": [
    "# 6. General Hypothesis Testing Framework\n",
    "**In hypothesis testing:**\n",
    "\n",
    "* **Null Hypothesis (H0): Assumes no effect or difference.**\n",
    "\n",
    "* **Alternative Hypothesis (H1): Assumes there is an effect or difference.**\n",
    "\n",
    "* **P-value: Helps in deciding whether to reject the null hypothesis.**\n",
    "\n",
    "* **Reject H0 if p_value < alpha (usually 0.05).**"
   ]
  },
  {
   "cell_type": "markdown",
   "id": "c552a88f",
   "metadata": {
    "papermill": {
     "duration": 0.003462,
     "end_time": "2024-09-24T10:13:02.417407",
     "exception": false,
     "start_time": "2024-09-24T10:13:02.413945",
     "status": "completed"
    },
    "tags": []
   },
   "source": [
    "# 7. Critical Values for T-Test\n",
    "**Critical values help determine the rejection region for the null hypothesis based on a given confidence level.**"
   ]
  },
  {
   "cell_type": "code",
   "execution_count": 8,
   "id": "f44545c1",
   "metadata": {
    "execution": {
     "iopub.execute_input": "2024-09-24T10:13:02.426788Z",
     "iopub.status.busy": "2024-09-24T10:13:02.425909Z",
     "iopub.status.idle": "2024-09-24T10:13:02.431196Z",
     "shell.execute_reply": "2024-09-24T10:13:02.430233Z"
    },
    "papermill": {
     "duration": 0.012279,
     "end_time": "2024-09-24T10:13:02.433343",
     "exception": false,
     "start_time": "2024-09-24T10:13:02.421064",
     "status": "completed"
    },
    "tags": []
   },
   "outputs": [],
   "source": [
    "# Critical t-value for a two-tailed test at 95% confidence and df=10\n",
    "alpha = 0.05\n",
    "critical_value = stats.t.ppf(1 - alpha/2, df=10)"
   ]
  }
 ],
 "metadata": {
  "kaggle": {
   "accelerator": "none",
   "dataSources": [],
   "dockerImageVersionId": 30775,
   "isGpuEnabled": false,
   "isInternetEnabled": true,
   "language": "python",
   "sourceType": "notebook"
  },
  "kernelspec": {
   "display_name": "Python 3",
   "language": "python",
   "name": "python3"
  },
  "language_info": {
   "codemirror_mode": {
    "name": "ipython",
    "version": 3
   },
   "file_extension": ".py",
   "mimetype": "text/x-python",
   "name": "python",
   "nbconvert_exporter": "python",
   "pygments_lexer": "ipython3",
   "version": "3.10.14"
  },
  "papermill": {
   "default_parameters": {},
   "duration": 5.125737,
   "end_time": "2024-09-24T10:13:02.956954",
   "environment_variables": {},
   "exception": null,
   "input_path": "__notebook__.ipynb",
   "output_path": "__notebook__.ipynb",
   "parameters": {},
   "start_time": "2024-09-24T10:12:57.831217",
   "version": "2.6.0"
  }
 },
 "nbformat": 4,
 "nbformat_minor": 5
}
